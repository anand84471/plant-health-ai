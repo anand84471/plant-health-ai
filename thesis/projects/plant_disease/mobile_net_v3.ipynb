{
 "cells": [
  {
   "cell_type": "code",
   "execution_count": 2,
   "id": "90297e02",
   "metadata": {},
   "outputs": [],
   "source": [
    "import torch\n",
    "import torch.nn as nn\n",
    "from torchvision import datasets, transforms\n",
    "from torch.utils.data import DataLoader, random_split\n",
    "from torchvision import transforms\n",
    "from thesis.utils.pytorch import train"
   ]
  },
  {
   "cell_type": "code",
   "execution_count": 3,
   "id": "d1eccce7",
   "metadata": {},
   "outputs": [
    {
     "name": "stdout",
     "output_type": "stream",
     "text": [
      "Total size: 55448\n",
      "Train size: 44358\n",
      "Val size: 5544\n",
      "Test size: 5546\n"
     ]
    }
   ],
   "source": [
    "# Define data transforms\n",
    "# MobileNetV2 expects 224x224 input images and specific normalization\n",
    "data_transforms = {\n",
    "    'train': transforms.Compose([\n",
    "        transforms.Resize(256),\n",
    "        transforms.RandomResizedCrop(224),          # phóng to rồi crop ngẫu nhiên vùng 224x224\n",
    "        transforms.RandomHorizontalFlip(p=0.5),     # lật ngang ảnh ngẫu nhiên\n",
    "        transforms.ColorJitter(brightness=0.2, contrast=0.2, saturation=0.2, hue=0.1),  # thay đổi màu sắc\n",
    "        transforms.RandomRotation(degrees=15),      # xoay ngẫu nhiên ±15 độ\n",
    "        transforms.RandomAffine(degrees=0, translate=(0.1, 0.1)),  # dịch ảnh\n",
    "        transforms.RandomPerspective(distortion_scale=0.2, p=0.5), # hiệu ứng phối cảnh\n",
    "        transforms.ToTensor(),                      # chuyển thành tensor\n",
    "        transforms.Normalize([0.485, 0.456, 0.406], [0.229, 0.224, 0.225])\n",
    "    ]),\n",
    "    'val': transforms.Compose([\n",
    "        transforms.Resize(256),\n",
    "        transforms.CenterCrop(224),\n",
    "        transforms.ToTensor(),\n",
    "        transforms.Normalize([0.485, 0.456, 0.406], [0.229, 0.224, 0.225])\n",
    "    ]),\n",
    "    'test': transforms.Compose([ # Often same as validation for consistent evaluation\n",
    "        transforms.Resize(256),\n",
    "        transforms.CenterCrop(224),\n",
    "        transforms.ToTensor(),\n",
    "        transforms.Normalize([0.485, 0.456, 0.406], [0.229, 0.224, 0.225])\n",
    "    ]),\n",
    "}\n",
    "\n",
    "\n",
    "# base_dir = \"/Users/anand/Desktop/1mg/repos/thesis/thesis/data/PlantDoc-Dataset\"\n",
    "base_dir = \"/Users/anand/Desktop/temp/Data for Identification of Plant Leaf Diseases Using a 9-layer Deep Convolutional Neural Network/Plant_leave_diseases_dataset_without_augmentation\"\n",
    "base_dataset = datasets.ImageFolder(base_dir)\n",
    "\n",
    "total_size = len(base_dataset)\n",
    "print('Total size:', total_size)\n",
    "train_size = int(0.8 * total_size)\n",
    "val_size = int(0.1 * total_size)\n",
    "test_size = total_size - train_size - val_size\n",
    "\n",
    "print('Train size:', train_size)\n",
    "print('Val size:', val_size)\n",
    "print('Test size:', test_size)\n",
    "\n",
    "train_data, val_data, test_data = random_split(\n",
    "    base_dataset, [train_size, val_size, test_size],\n",
    "    generator=torch.Generator().manual_seed(42)\n",
    ")\n",
    "\n",
    "train_data.dataset.transform = data_transforms[\"train\"]\n",
    "val_data.dataset.transform = data_transforms[\"val\"]\n",
    "test_data.dataset.transform = data_transforms[\"test\"]\n",
    "\n",
    "batch_size = 64\n",
    "train_loader = DataLoader(train_data, batch_size=batch_size, shuffle=True, pin_memory=True)\n",
    "val_loader = DataLoader(val_data, batch_size=batch_size, shuffle=True, pin_memory=True)\n",
    "test_loader = DataLoader(test_data, shuffle=True, pin_memory=True)\n"
   ]
  },
  {
   "cell_type": "code",
   "execution_count": 34,
   "id": "dd2cb4af",
   "metadata": {},
   "outputs": [],
   "source": [
    "from collections import Counter\n",
    "\n",
    "# These give you the label for each sample in the subset\n",
    "train_labels = [label for _, label in train_data]\n",
    "val_labels = [label for _, label in val_data]\n",
    "test_labels = [label for _, label in test_data]\n",
    "\n",
    "train_counters = Counter(train_labels)\n",
    "val_counters =  Counter(val_labels)\n",
    "test_counters = Counter(test_labels)"
   ]
  },
  {
   "cell_type": "code",
   "execution_count": 35,
   "id": "626c797b",
   "metadata": {},
   "outputs": [
    {
     "name": "stdout",
     "output_type": "stream",
     "text": [
      "[0, 1, 2, 3, 4, 5, 6, 7, 8, 9, 10, 11, 12, 13, 14, 15, 16, 17, 18, 19, 20, 21, 22, 23, 24, 25, 26, 27, 28, 29, 30, 31, 32, 33, 34, 35, 36, 37, 38]\n",
      "[0, 1, 2, 3, 4, 5, 6, 7, 8, 9, 10, 11, 12, 13, 14, 15, 16, 17, 18, 19, 20, 21, 22, 23, 24, 25, 26, 27, 28, 29, 30, 31, 32, 33, 34, 35, 36, 37, 38]\n",
      "[0, 1, 2, 3, 4, 5, 6, 7, 8, 9, 10, 11, 12, 13, 14, 15, 16, 17, 18, 19, 20, 21, 22, 23, 24, 25, 26, 27, 28, 29, 30, 31, 32, 33, 34, 35, 36, 37, 38]\n"
     ]
    }
   ],
   "source": [
    "x = list(train_counters.keys())\n",
    "x.sort()\n",
    "print(x)\n",
    "\n",
    "y = list(val_counters.keys())\n",
    "y.sort()\n",
    "print(y)\n",
    "\n",
    "z = list(test_counters.keys())\n",
    "z.sort()\n",
    "print(z)\n"
   ]
  },
  {
   "cell_type": "code",
   "execution_count": 5,
   "id": "04ef627a",
   "metadata": {},
   "outputs": [
    {
     "name": "stdout",
     "output_type": "stream",
     "text": [
      "Using device: mps\n"
     ]
    }
   ],
   "source": [
    "# device = torch.device(\"mps\" if torch.mps.is_available() else \"cpu\")\n",
    "device = torch.device(\"cuda\" if torch.cuda.is_available() else \"mps\")\n",
    "print(\"Using device:\", device)"
   ]
  },
  {
   "cell_type": "code",
   "execution_count": null,
   "id": "dedd1aac",
   "metadata": {},
   "outputs": [
    {
     "name": "stdout",
     "output_type": "stream",
     "text": [
      "Available quantization engines: ['qnnpack', 'none']\n",
      "Using quantization engine: qnnpack\n"
     ]
    }
   ],
   "source": [
    "\"\"\"Quantisation step\"\"\"\n",
    "\n",
    "import torch\n",
    "import torchvision.models\n",
    "\n",
    "# Check what backends are available\n",
    "print(\"Available quantization engines:\", torch.backends.quantized.supported_engines)\n",
    "\n",
    "# Use the first available backend\n",
    "if torch.backends.quantized.supported_engines:\n",
    "    torch.backends.quantized.engine = torch.backends.quantized.supported_engines[0]\n",
    "    print(f\"Using quantization engine: {torch.backends.quantized.engine}\")\n",
    "else:\n",
    "    print(\"No quantization engines available\")\n",
    "\n",
    "model = torchvision.models.mobilenet_v3_large(weights=\"DEFAULT\")\n",
    "model = model.to(\"cpu\")\n",
    "model.eval()\n",
    "\n",
    "model = torch.quantization.quantize_dynamic(\n",
    "    model, {torch.nn.Linear}, dtype=torch.qint8\n",
    ")"
   ]
  },
  {
   "cell_type": "code",
   "execution_count": 7,
   "id": "913c72a7",
   "metadata": {},
   "outputs": [
    {
     "name": "stdout",
     "output_type": "stream",
     "text": [
      "Num classes:  39\n",
      "Classifier: Sequential(\n",
      "  (0): Linear(in_features=960, out_features=1280, bias=True)\n",
      "  (1): Hardswish()\n",
      "  (2): Dropout(p=0.2, inplace=True)\n",
      "  (3): Linear(in_features=1280, out_features=1000, bias=True)\n",
      ")\n",
      "No of features:  1280\n"
     ]
    }
   ],
   "source": [
    "import torchvision\n",
    "\n",
    "model = torchvision.models.mobilenet_v3_large(weights=\"DEFAULT\")\n",
    "\n",
    "# Get number of classes\n",
    "num_classes = len(base_dataset.classes) \n",
    "print(\"Num classes: \", num_classes)\n",
    "\n",
    "# Check classifier structure and get input features\n",
    "print(\"Classifier:\", model.classifier)\n",
    "\n",
    "# For MobileNetV3, the final layer is usually at index -1 or index 3\n",
    "# Let's try the last layer\n",
    "final_layer = model.classifier[-1]  # or try model.classifier[3]\n",
    "in_features = final_layer.in_features\n",
    "print(\"No of features: \", in_features)\n",
    "\n",
    "# Replace the final layer\n",
    "model.classifier[-1] = nn.Linear(in_features, num_classes)\n",
    "\n",
    "# Move to device\n",
    "model = model.to(device)\n",
    "\n",
    "# Freeze feature extraction layers\n",
    "for param in model.features.parameters():\n",
    "    param.requires_grad = False\n",
    "\n",
    "# Setup loss and optimizer\n",
    "criterion = nn.CrossEntropyLoss()\n",
    "optimizer = torch.optim.Adam(model.parameters(), lr=0.001)"
   ]
  },
  {
   "cell_type": "code",
   "execution_count": 38,
   "id": "0ddb2815",
   "metadata": {},
   "outputs": [
    {
     "name": "stdout",
     "output_type": "stream",
     "text": [
      "device mps\n",
      "============================== Epoch 1:\n"
     ]
    },
    {
     "name": "stderr",
     "output_type": "stream",
     "text": [
      "Train:   0%|          | 0/694 [00:00<?, ?it/s]/Users/anand/Desktop/1mg/repos/thesis/.venv/lib/python3.13/site-packages/torch/utils/data/dataloader.py:683: UserWarning: 'pin_memory' argument is set as true but not supported on MPS now, then device pinned memory won't be used.\n",
      "  warnings.warn(warn_msg)\n",
      "Train: 100%|██████████| 694/694 [01:45<00:00,  6.56it/s]\n"
     ]
    },
    {
     "name": "stdout",
     "output_type": "stream",
     "text": [
      "===Train:\t|\tAccuracy: 0.9047\t|\tLoss: 0.3294\n"
     ]
    },
    {
     "name": "stderr",
     "output_type": "stream",
     "text": [
      "Val: 100%|██████████| 5546/5546 [00:54<00:00, 101.74it/s]\n"
     ]
    },
    {
     "name": "stdout",
     "output_type": "stream",
     "text": [
      "===Valid:\t|\tAccuracy: 0.9522\t|\tLoss: 0.1361\n",
      "========================================================================================== \n",
      "\n",
      "\n",
      "\n",
      "============================== Epoch 2:\n"
     ]
    },
    {
     "name": "stderr",
     "output_type": "stream",
     "text": [
      "Train: 100%|██████████| 694/694 [01:43<00:00,  6.71it/s]\n"
     ]
    },
    {
     "name": "stdout",
     "output_type": "stream",
     "text": [
      "===Train:\t|\tAccuracy: 0.9596\t|\tLoss: 0.1181\n"
     ]
    },
    {
     "name": "stderr",
     "output_type": "stream",
     "text": [
      "Val: 100%|██████████| 5546/5546 [00:55<00:00, 100.07it/s]\n"
     ]
    },
    {
     "name": "stdout",
     "output_type": "stream",
     "text": [
      "===Valid:\t|\tAccuracy: 0.9620\t|\tLoss: 0.1167\n",
      "========================================================================================== \n",
      "\n",
      "\n",
      "\n",
      "============================== Epoch 3:\n"
     ]
    },
    {
     "name": "stderr",
     "output_type": "stream",
     "text": [
      "Train: 100%|██████████| 694/694 [01:44<00:00,  6.63it/s]\n"
     ]
    },
    {
     "name": "stdout",
     "output_type": "stream",
     "text": [
      "===Train:\t|\tAccuracy: 0.9730\t|\tLoss: 0.0817\n"
     ]
    },
    {
     "name": "stderr",
     "output_type": "stream",
     "text": [
      "Val: 100%|██████████| 5546/5546 [00:55<00:00, 99.98it/s] \n"
     ]
    },
    {
     "name": "stdout",
     "output_type": "stream",
     "text": [
      "===Valid:\t|\tAccuracy: 0.9609\t|\tLoss: 0.1150\n",
      "========================================================================================== \n",
      "\n",
      "\n",
      "\n",
      "============================== Epoch 4:\n"
     ]
    },
    {
     "name": "stderr",
     "output_type": "stream",
     "text": [
      "Train: 100%|██████████| 694/694 [01:43<00:00,  6.68it/s]\n"
     ]
    },
    {
     "name": "stdout",
     "output_type": "stream",
     "text": [
      "===Train:\t|\tAccuracy: 0.9784\t|\tLoss: 0.0640\n"
     ]
    },
    {
     "name": "stderr",
     "output_type": "stream",
     "text": [
      "Val: 100%|██████████| 5546/5546 [00:54<00:00, 101.74it/s]\n"
     ]
    },
    {
     "name": "stdout",
     "output_type": "stream",
     "text": [
      "===Valid:\t|\tAccuracy: 0.9602\t|\tLoss: 0.1188\n",
      "========================================================================================== \n",
      "\n",
      "\n",
      "\n",
      "============================== Epoch 5:\n"
     ]
    },
    {
     "name": "stderr",
     "output_type": "stream",
     "text": [
      "Train: 100%|██████████| 694/694 [01:45<00:00,  6.59it/s]\n"
     ]
    },
    {
     "name": "stdout",
     "output_type": "stream",
     "text": [
      "===Train:\t|\tAccuracy: 0.9837\t|\tLoss: 0.0478\n"
     ]
    },
    {
     "name": "stderr",
     "output_type": "stream",
     "text": [
      "Val: 100%|██████████| 5546/5546 [00:55<00:00, 100.22it/s]\n"
     ]
    },
    {
     "name": "stdout",
     "output_type": "stream",
     "text": [
      "===Valid:\t|\tAccuracy: 0.9639\t|\tLoss: 0.1129\n",
      "========================================================================================== \n",
      "\n",
      "\n",
      "\n",
      "============================== Epoch 6:\n"
     ]
    },
    {
     "name": "stderr",
     "output_type": "stream",
     "text": [
      "Train: 100%|██████████| 694/694 [01:45<00:00,  6.55it/s]\n"
     ]
    },
    {
     "name": "stdout",
     "output_type": "stream",
     "text": [
      "===Train:\t|\tAccuracy: 0.9846\t|\tLoss: 0.0434\n"
     ]
    },
    {
     "name": "stderr",
     "output_type": "stream",
     "text": [
      "Val: 100%|██████████| 5546/5546 [00:52<00:00, 104.97it/s]\n"
     ]
    },
    {
     "name": "stdout",
     "output_type": "stream",
     "text": [
      "===Valid:\t|\tAccuracy: 0.9636\t|\tLoss: 0.1180\n",
      "========================================================================================== \n",
      "\n",
      "\n",
      "\n",
      "============================== Epoch 7:\n"
     ]
    },
    {
     "name": "stderr",
     "output_type": "stream",
     "text": [
      "Train: 100%|██████████| 694/694 [01:43<00:00,  6.70it/s]\n"
     ]
    },
    {
     "name": "stdout",
     "output_type": "stream",
     "text": [
      "===Train:\t|\tAccuracy: 0.9867\t|\tLoss: 0.0380\n"
     ]
    },
    {
     "name": "stderr",
     "output_type": "stream",
     "text": [
      "Val: 100%|██████████| 5546/5546 [00:55<00:00, 99.88it/s] \n"
     ]
    },
    {
     "name": "stdout",
     "output_type": "stream",
     "text": [
      "===Valid:\t|\tAccuracy: 0.9695\t|\tLoss: 0.1073\n",
      "========================================================================================== \n",
      "\n",
      "\n",
      "\n",
      "============================== Epoch 8:\n"
     ]
    },
    {
     "name": "stderr",
     "output_type": "stream",
     "text": [
      "Train: 100%|██████████| 694/694 [01:44<00:00,  6.62it/s]\n"
     ]
    },
    {
     "name": "stdout",
     "output_type": "stream",
     "text": [
      "===Train:\t|\tAccuracy: 0.9853\t|\tLoss: 0.0435\n"
     ]
    },
    {
     "name": "stderr",
     "output_type": "stream",
     "text": [
      "Val: 100%|██████████| 5546/5546 [00:54<00:00, 101.80it/s]\n"
     ]
    },
    {
     "name": "stdout",
     "output_type": "stream",
     "text": [
      "===Valid:\t|\tAccuracy: 0.9693\t|\tLoss: 0.1160\n",
      "========================================================================================== \n",
      "\n",
      "\n",
      "\n",
      "============================== Epoch 9:\n"
     ]
    },
    {
     "name": "stderr",
     "output_type": "stream",
     "text": [
      "Train: 100%|██████████| 694/694 [01:44<00:00,  6.62it/s]\n"
     ]
    },
    {
     "name": "stdout",
     "output_type": "stream",
     "text": [
      "===Train:\t|\tAccuracy: 0.9871\t|\tLoss: 0.0387\n"
     ]
    },
    {
     "name": "stderr",
     "output_type": "stream",
     "text": [
      "Val: 100%|██████████| 5546/5546 [00:53<00:00, 104.41it/s]\n"
     ]
    },
    {
     "name": "stdout",
     "output_type": "stream",
     "text": [
      "===Valid:\t|\tAccuracy: 0.9690\t|\tLoss: 0.1271\n",
      "========================================================================================== \n",
      "\n",
      "\n",
      "\n",
      "============================== Epoch 10:\n"
     ]
    },
    {
     "name": "stderr",
     "output_type": "stream",
     "text": [
      "Train: 100%|██████████| 694/694 [01:42<00:00,  6.75it/s]\n"
     ]
    },
    {
     "name": "stdout",
     "output_type": "stream",
     "text": [
      "===Train:\t|\tAccuracy: 0.9903\t|\tLoss: 0.0288\n"
     ]
    },
    {
     "name": "stderr",
     "output_type": "stream",
     "text": [
      "Val: 100%|██████████| 5546/5546 [00:53<00:00, 103.70it/s]\n"
     ]
    },
    {
     "name": "stdout",
     "output_type": "stream",
     "text": [
      "===Valid:\t|\tAccuracy: 0.9679\t|\tLoss: 0.1324\n",
      "========================================================================================== \n",
      "\n",
      "\n",
      "\n",
      "============================== Epoch 11:\n"
     ]
    },
    {
     "name": "stderr",
     "output_type": "stream",
     "text": [
      "Train: 100%|██████████| 694/694 [01:43<00:00,  6.73it/s]\n"
     ]
    },
    {
     "name": "stdout",
     "output_type": "stream",
     "text": [
      "===Train:\t|\tAccuracy: 0.9910\t|\tLoss: 0.0269\n"
     ]
    },
    {
     "name": "stderr",
     "output_type": "stream",
     "text": [
      "Val: 100%|██████████| 5546/5546 [00:53<00:00, 102.87it/s]\n"
     ]
    },
    {
     "name": "stdout",
     "output_type": "stream",
     "text": [
      "===Valid:\t|\tAccuracy: 0.9690\t|\tLoss: 0.1271\n",
      "========================================================================================== \n",
      "\n",
      "\n",
      "\n",
      "============================== Epoch 12:\n"
     ]
    },
    {
     "name": "stderr",
     "output_type": "stream",
     "text": [
      "Train: 100%|██████████| 694/694 [01:41<00:00,  6.85it/s]\n"
     ]
    },
    {
     "name": "stdout",
     "output_type": "stream",
     "text": [
      "===Train:\t|\tAccuracy: 0.9908\t|\tLoss: 0.0306\n"
     ]
    },
    {
     "name": "stderr",
     "output_type": "stream",
     "text": [
      "Val: 100%|██████████| 5546/5546 [00:53<00:00, 103.93it/s]\n"
     ]
    },
    {
     "name": "stdout",
     "output_type": "stream",
     "text": [
      "===Valid:\t|\tAccuracy: 0.9663\t|\tLoss: 0.1233\n",
      "========================================================================================== \n",
      "\n",
      "\n",
      "\n",
      "============================== Epoch 13:\n"
     ]
    },
    {
     "name": "stderr",
     "output_type": "stream",
     "text": [
      "Train: 100%|██████████| 694/694 [01:41<00:00,  6.81it/s]\n"
     ]
    },
    {
     "name": "stdout",
     "output_type": "stream",
     "text": [
      "===Train:\t|\tAccuracy: 0.9915\t|\tLoss: 0.0271\n"
     ]
    },
    {
     "name": "stderr",
     "output_type": "stream",
     "text": [
      "Val: 100%|██████████| 5546/5546 [00:53<00:00, 103.94it/s]\n"
     ]
    },
    {
     "name": "stdout",
     "output_type": "stream",
     "text": [
      "===Valid:\t|\tAccuracy: 0.9692\t|\tLoss: 0.1476\n",
      "========================================================================================== \n",
      "\n",
      "\n",
      "\n",
      "============================== Epoch 14:\n"
     ]
    },
    {
     "name": "stderr",
     "output_type": "stream",
     "text": [
      "Train: 100%|██████████| 694/694 [01:44<00:00,  6.66it/s]\n"
     ]
    },
    {
     "name": "stdout",
     "output_type": "stream",
     "text": [
      "===Train:\t|\tAccuracy: 0.9910\t|\tLoss: 0.0288\n"
     ]
    },
    {
     "name": "stderr",
     "output_type": "stream",
     "text": [
      "Val: 100%|██████████| 5546/5546 [00:52<00:00, 104.73it/s]\n"
     ]
    },
    {
     "name": "stdout",
     "output_type": "stream",
     "text": [
      "===Valid:\t|\tAccuracy: 0.9638\t|\tLoss: 0.1697\n",
      "========================================================================================== \n",
      "\n",
      "\n",
      "\n",
      "============================== Epoch 15:\n"
     ]
    },
    {
     "name": "stderr",
     "output_type": "stream",
     "text": [
      "Train: 100%|██████████| 694/694 [01:43<00:00,  6.69it/s]\n"
     ]
    },
    {
     "name": "stdout",
     "output_type": "stream",
     "text": [
      "===Train:\t|\tAccuracy: 0.9909\t|\tLoss: 0.0318\n"
     ]
    },
    {
     "name": "stderr",
     "output_type": "stream",
     "text": [
      "Val: 100%|██████████| 5546/5546 [00:55<00:00, 100.80it/s]\n"
     ]
    },
    {
     "name": "stdout",
     "output_type": "stream",
     "text": [
      "===Valid:\t|\tAccuracy: 0.9708\t|\tLoss: 0.1361\n",
      "========================================================================================== \n",
      "\n",
      "\n",
      "\n",
      "============================== Epoch 16:\n"
     ]
    },
    {
     "name": "stderr",
     "output_type": "stream",
     "text": [
      "Train: 100%|██████████| 694/694 [01:42<00:00,  6.80it/s]\n"
     ]
    },
    {
     "name": "stdout",
     "output_type": "stream",
     "text": [
      "===Train:\t|\tAccuracy: 0.9914\t|\tLoss: 0.0270\n"
     ]
    },
    {
     "name": "stderr",
     "output_type": "stream",
     "text": [
      "Val: 100%|██████████| 5546/5546 [00:52<00:00, 104.74it/s]\n"
     ]
    },
    {
     "name": "stdout",
     "output_type": "stream",
     "text": [
      "===Valid:\t|\tAccuracy: 0.9701\t|\tLoss: 0.1396\n",
      "========================================================================================== \n",
      "\n",
      "\n",
      "\n",
      "============================== Epoch 17:\n"
     ]
    },
    {
     "name": "stderr",
     "output_type": "stream",
     "text": [
      "Train: 100%|██████████| 694/694 [01:42<00:00,  6.74it/s]\n"
     ]
    },
    {
     "name": "stdout",
     "output_type": "stream",
     "text": [
      "===Train:\t|\tAccuracy: 0.9904\t|\tLoss: 0.0328\n"
     ]
    },
    {
     "name": "stderr",
     "output_type": "stream",
     "text": [
      "Val: 100%|██████████| 5546/5546 [00:53<00:00, 103.42it/s]\n"
     ]
    },
    {
     "name": "stdout",
     "output_type": "stream",
     "text": [
      "===Valid:\t|\tAccuracy: 0.9681\t|\tLoss: 0.1534\n",
      "========================================================================================== \n",
      "\n",
      "\n",
      "\n",
      "============================== Epoch 18:\n"
     ]
    },
    {
     "name": "stderr",
     "output_type": "stream",
     "text": [
      "Train: 100%|██████████| 694/694 [01:41<00:00,  6.83it/s]\n"
     ]
    },
    {
     "name": "stdout",
     "output_type": "stream",
     "text": [
      "===Train:\t|\tAccuracy: 0.9938\t|\tLoss: 0.0204\n"
     ]
    },
    {
     "name": "stderr",
     "output_type": "stream",
     "text": [
      "Val: 100%|██████████| 5546/5546 [00:56<00:00, 98.94it/s] \n"
     ]
    },
    {
     "name": "stdout",
     "output_type": "stream",
     "text": [
      "===Valid:\t|\tAccuracy: 0.9726\t|\tLoss: 0.1268\n",
      "========================================================================================== \n",
      "\n",
      "\n",
      "\n",
      "============================== Epoch 19:\n"
     ]
    },
    {
     "name": "stderr",
     "output_type": "stream",
     "text": [
      "Train: 100%|██████████| 694/694 [01:43<00:00,  6.68it/s]\n"
     ]
    },
    {
     "name": "stdout",
     "output_type": "stream",
     "text": [
      "===Train:\t|\tAccuracy: 0.9913\t|\tLoss: 0.0308\n"
     ]
    },
    {
     "name": "stderr",
     "output_type": "stream",
     "text": [
      "Val: 100%|██████████| 5546/5546 [00:56<00:00, 97.90it/s] \n"
     ]
    },
    {
     "name": "stdout",
     "output_type": "stream",
     "text": [
      "===Valid:\t|\tAccuracy: 0.9686\t|\tLoss: 0.1415\n",
      "========================================================================================== \n",
      "\n",
      "\n",
      "\n",
      "============================== Epoch 20:\n"
     ]
    },
    {
     "name": "stderr",
     "output_type": "stream",
     "text": [
      "Train: 100%|██████████| 694/694 [01:46<00:00,  6.52it/s]\n"
     ]
    },
    {
     "name": "stdout",
     "output_type": "stream",
     "text": [
      "===Train:\t|\tAccuracy: 0.9937\t|\tLoss: 0.0207\n"
     ]
    },
    {
     "name": "stderr",
     "output_type": "stream",
     "text": [
      "Val: 100%|██████████| 5546/5546 [00:55<00:00, 99.88it/s] \n"
     ]
    },
    {
     "name": "stdout",
     "output_type": "stream",
     "text": [
      "===Valid:\t|\tAccuracy: 0.9702\t|\tLoss: 0.1621\n",
      "========================================================================================== \n",
      "\n",
      "\n",
      "\n",
      "============================== Epoch 21:\n"
     ]
    },
    {
     "name": "stderr",
     "output_type": "stream",
     "text": [
      "Train: 100%|██████████| 694/694 [01:45<00:00,  6.58it/s]\n"
     ]
    },
    {
     "name": "stdout",
     "output_type": "stream",
     "text": [
      "===Train:\t|\tAccuracy: 0.9917\t|\tLoss: 0.0300\n"
     ]
    },
    {
     "name": "stderr",
     "output_type": "stream",
     "text": [
      "Val: 100%|██████████| 5546/5546 [00:54<00:00, 101.41it/s]\n"
     ]
    },
    {
     "name": "stdout",
     "output_type": "stream",
     "text": [
      "===Valid:\t|\tAccuracy: 0.9719\t|\tLoss: 0.1527\n",
      "========================================================================================== \n",
      "\n",
      "\n",
      "\n",
      "============================== Epoch 22:\n"
     ]
    },
    {
     "name": "stderr",
     "output_type": "stream",
     "text": [
      "Train: 100%|██████████| 694/694 [01:47<00:00,  6.46it/s]\n"
     ]
    },
    {
     "name": "stdout",
     "output_type": "stream",
     "text": [
      "===Train:\t|\tAccuracy: 0.9921\t|\tLoss: 0.0273\n"
     ]
    },
    {
     "name": "stderr",
     "output_type": "stream",
     "text": [
      "Val: 100%|██████████| 5546/5546 [00:55<00:00, 99.89it/s] \n"
     ]
    },
    {
     "name": "stdout",
     "output_type": "stream",
     "text": [
      "===Valid:\t|\tAccuracy: 0.9665\t|\tLoss: 0.1986\n",
      "========================================================================================== \n",
      "\n",
      "\n",
      "\n",
      "============================== Epoch 23:\n"
     ]
    },
    {
     "name": "stderr",
     "output_type": "stream",
     "text": [
      "Train: 100%|██████████| 694/694 [01:46<00:00,  6.49it/s]\n"
     ]
    },
    {
     "name": "stdout",
     "output_type": "stream",
     "text": [
      "===Train:\t|\tAccuracy: 0.9909\t|\tLoss: 0.0336\n"
     ]
    },
    {
     "name": "stderr",
     "output_type": "stream",
     "text": [
      "Val: 100%|██████████| 5546/5546 [00:54<00:00, 101.49it/s]\n"
     ]
    },
    {
     "name": "stdout",
     "output_type": "stream",
     "text": [
      "===Valid:\t|\tAccuracy: 0.9717\t|\tLoss: 0.1593\n",
      "========================================================================================== \n",
      "\n",
      "\n",
      "\n",
      "============================== Epoch 24:\n"
     ]
    },
    {
     "name": "stderr",
     "output_type": "stream",
     "text": [
      "Train: 100%|██████████| 694/694 [01:45<00:00,  6.57it/s]\n"
     ]
    },
    {
     "name": "stdout",
     "output_type": "stream",
     "text": [
      "===Train:\t|\tAccuracy: 0.9920\t|\tLoss: 0.0306\n"
     ]
    },
    {
     "name": "stderr",
     "output_type": "stream",
     "text": [
      "Val: 100%|██████████| 5546/5546 [00:54<00:00, 102.65it/s]\n"
     ]
    },
    {
     "name": "stdout",
     "output_type": "stream",
     "text": [
      "===Valid:\t|\tAccuracy: 0.9674\t|\tLoss: 0.1733\n",
      "========================================================================================== \n",
      "\n",
      "\n",
      "\n",
      "============================== Epoch 25:\n"
     ]
    },
    {
     "name": "stderr",
     "output_type": "stream",
     "text": [
      "Train: 100%|██████████| 694/694 [01:46<00:00,  6.53it/s]\n"
     ]
    },
    {
     "name": "stdout",
     "output_type": "stream",
     "text": [
      "===Train:\t|\tAccuracy: 0.9932\t|\tLoss: 0.0274\n"
     ]
    },
    {
     "name": "stderr",
     "output_type": "stream",
     "text": [
      "Val: 100%|██████████| 5546/5546 [00:54<00:00, 101.07it/s]\n"
     ]
    },
    {
     "name": "stdout",
     "output_type": "stream",
     "text": [
      "===Valid:\t|\tAccuracy: 0.9717\t|\tLoss: 0.1684\n",
      "========================================================================================== \n",
      "\n",
      "\n",
      "\n",
      "============================== Epoch 26:\n"
     ]
    },
    {
     "name": "stderr",
     "output_type": "stream",
     "text": [
      "Train: 100%|██████████| 694/694 [01:48<00:00,  6.37it/s]\n"
     ]
    },
    {
     "name": "stdout",
     "output_type": "stream",
     "text": [
      "===Train:\t|\tAccuracy: 0.9936\t|\tLoss: 0.0231\n"
     ]
    },
    {
     "name": "stderr",
     "output_type": "stream",
     "text": [
      "Val: 100%|██████████| 5546/5546 [00:55<00:00, 100.03it/s]\n"
     ]
    },
    {
     "name": "stdout",
     "output_type": "stream",
     "text": [
      "===Valid:\t|\tAccuracy: 0.9704\t|\tLoss: 0.1688\n",
      "========================================================================================== \n",
      "\n",
      "\n",
      "\n",
      "============================== Epoch 27:\n"
     ]
    },
    {
     "name": "stderr",
     "output_type": "stream",
     "text": [
      "Train: 100%|██████████| 694/694 [01:47<00:00,  6.44it/s]\n"
     ]
    },
    {
     "name": "stdout",
     "output_type": "stream",
     "text": [
      "===Train:\t|\tAccuracy: 0.9950\t|\tLoss: 0.0163\n"
     ]
    },
    {
     "name": "stderr",
     "output_type": "stream",
     "text": [
      "Val: 100%|██████████| 5546/5546 [00:55<00:00, 100.27it/s]\n"
     ]
    },
    {
     "name": "stdout",
     "output_type": "stream",
     "text": [
      "===Valid:\t|\tAccuracy: 0.9675\t|\tLoss: 0.1769\n",
      "========================================================================================== \n",
      "\n",
      "\n",
      "\n",
      "============================== Epoch 28:\n"
     ]
    },
    {
     "name": "stderr",
     "output_type": "stream",
     "text": [
      "Train: 100%|██████████| 694/694 [01:44<00:00,  6.64it/s]\n"
     ]
    },
    {
     "name": "stdout",
     "output_type": "stream",
     "text": [
      "===Train:\t|\tAccuracy: 0.9940\t|\tLoss: 0.0207\n"
     ]
    },
    {
     "name": "stderr",
     "output_type": "stream",
     "text": [
      "Val: 100%|██████████| 5546/5546 [00:54<00:00, 102.35it/s]\n"
     ]
    },
    {
     "name": "stdout",
     "output_type": "stream",
     "text": [
      "===Valid:\t|\tAccuracy: 0.9749\t|\tLoss: 0.1550\n",
      "========================================================================================== \n",
      "\n",
      "\n",
      "\n",
      "============================== Epoch 29:\n"
     ]
    },
    {
     "name": "stderr",
     "output_type": "stream",
     "text": [
      "Train: 100%|██████████| 694/694 [01:44<00:00,  6.62it/s]\n"
     ]
    },
    {
     "name": "stdout",
     "output_type": "stream",
     "text": [
      "===Train:\t|\tAccuracy: 0.9927\t|\tLoss: 0.0287\n"
     ]
    },
    {
     "name": "stderr",
     "output_type": "stream",
     "text": [
      "Val: 100%|██████████| 5546/5546 [00:56<00:00, 98.65it/s] \n"
     ]
    },
    {
     "name": "stdout",
     "output_type": "stream",
     "text": [
      "===Valid:\t|\tAccuracy: 0.9749\t|\tLoss: 0.1483\n",
      "========================================================================================== \n",
      "\n",
      "\n",
      "\n",
      "============================== Epoch 30:\n"
     ]
    },
    {
     "name": "stderr",
     "output_type": "stream",
     "text": [
      "Train: 100%|██████████| 694/694 [01:45<00:00,  6.59it/s]\n"
     ]
    },
    {
     "name": "stdout",
     "output_type": "stream",
     "text": [
      "===Train:\t|\tAccuracy: 0.9934\t|\tLoss: 0.0251\n"
     ]
    },
    {
     "name": "stderr",
     "output_type": "stream",
     "text": [
      "Val: 100%|██████████| 5546/5546 [00:54<00:00, 102.68it/s]\n"
     ]
    },
    {
     "name": "stdout",
     "output_type": "stream",
     "text": [
      "===Valid:\t|\tAccuracy: 0.9701\t|\tLoss: 0.1861\n",
      "========================================================================================== \n",
      "\n",
      "\n",
      "\n",
      "Best checkpoinpt: 27\n",
      "Train Accuracy: 0.9949501780963975\t|\tTrain Loss: 0.016309875207539112\n",
      "Test Accuracy: 0.9675441759826903\t|\tTest Loss: 0.17686573445059442\n",
      "✅ Accuracy: 0.9701 (5380/5546)\n"
     ]
    }
   ],
   "source": [
    "num_epochs = 30\n",
    "print(\"device\", device)\n",
    "train(\"mobile_net_v3\", num_epochs, model, train_data, train_loader, test_data, test_loader, criterion, optimizer, device)"
   ]
  },
  {
   "cell_type": "code",
   "execution_count": null,
   "id": "8771a9f8",
   "metadata": {},
   "outputs": [
    {
     "name": "stdout",
     "output_type": "stream",
     "text": [
      "device mps\n",
      "============================== Epoch 1/30\n"
     ]
    },
    {
     "name": "stderr",
     "output_type": "stream",
     "text": [
      "Train:   0%|          | 0/694 [00:00<?, ?it/s]/Users/anand/Desktop/1mg/repos/thesis/.venv/lib/python3.13/site-packages/torch/utils/data/dataloader.py:683: UserWarning: 'pin_memory' argument is set as true but not supported on MPS now, then device pinned memory won't be used.\n",
      "  warnings.warn(warn_msg)\n",
      "Train: 100%|██████████| 694/694 [01:46<00:00,  6.51it/s]\n",
      "Val: 100%|██████████| 5546/5546 [00:55<00:00, 99.58it/s] \n"
     ]
    },
    {
     "name": "stdout",
     "output_type": "stream",
     "text": [
      "Train:\tAccuracy: 0.9021\tLoss: 0.3339\n",
      "Valid:\tAccuracy: 0.9522\tLoss: 0.1465\n",
      "Time taken: 162.37 seconds\n",
      "========================================================================================== \n",
      "\n",
      "============================== Epoch 2/30\n"
     ]
    },
    {
     "name": "stderr",
     "output_type": "stream",
     "text": [
      "Train: 100%|██████████| 694/694 [01:49<00:00,  6.35it/s]\n",
      "Val: 100%|██████████| 5546/5546 [00:54<00:00, 102.10it/s]\n"
     ]
    },
    {
     "name": "stdout",
     "output_type": "stream",
     "text": [
      "Train:\tAccuracy: 0.9618\tLoss: 0.1181\n",
      "Valid:\tAccuracy: 0.9656\tLoss: 0.1033\n",
      "Time taken: 163.67 seconds\n",
      "========================================================================================== \n",
      "\n",
      "============================== Epoch 3/30\n"
     ]
    },
    {
     "name": "stderr",
     "output_type": "stream",
     "text": [
      "Train: 100%|██████████| 694/694 [01:46<00:00,  6.50it/s]\n",
      "Val: 100%|██████████| 5546/5546 [00:53<00:00, 103.31it/s]\n"
     ]
    },
    {
     "name": "stdout",
     "output_type": "stream",
     "text": [
      "Train:\tAccuracy: 0.9735\tLoss: 0.0774\n",
      "Valid:\tAccuracy: 0.9582\tLoss: 0.1286\n",
      "Time taken: 160.49 seconds\n",
      "========================================================================================== \n",
      "\n",
      "============================== Epoch 4/30\n"
     ]
    },
    {
     "name": "stderr",
     "output_type": "stream",
     "text": [
      "Train: 100%|██████████| 694/694 [01:47<00:00,  6.43it/s]\n",
      "Val: 100%|██████████| 5546/5546 [00:54<00:00, 102.38it/s]\n"
     ]
    },
    {
     "name": "stdout",
     "output_type": "stream",
     "text": [
      "Train:\tAccuracy: 0.9791\tLoss: 0.0615\n",
      "Valid:\tAccuracy: 0.9627\tLoss: 0.1087\n",
      "Time taken: 162.06 seconds\n",
      "========================================================================================== \n",
      "\n",
      "============================== Epoch 5/30\n"
     ]
    },
    {
     "name": "stderr",
     "output_type": "stream",
     "text": [
      "Train: 100%|██████████| 694/694 [01:48<00:00,  6.41it/s]\n",
      "Val: 100%|██████████| 5546/5546 [00:52<00:00, 104.69it/s]\n"
     ]
    },
    {
     "name": "stdout",
     "output_type": "stream",
     "text": [
      "Train:\tAccuracy: 0.9831\tLoss: 0.0517\n",
      "Valid:\tAccuracy: 0.9659\tLoss: 0.1092\n",
      "Time taken: 161.33 seconds\n",
      "========================================================================================== \n",
      "\n",
      "============================== Epoch 6/30\n"
     ]
    },
    {
     "name": "stderr",
     "output_type": "stream",
     "text": [
      "Train: 100%|██████████| 694/694 [02:09<00:00,  5.37it/s]\n",
      "Val: 100%|██████████| 5546/5546 [00:52<00:00, 104.95it/s]\n"
     ]
    },
    {
     "name": "stdout",
     "output_type": "stream",
     "text": [
      "Train:\tAccuracy: 0.9866\tLoss: 0.0390\n",
      "Valid:\tAccuracy: 0.9675\tLoss: 0.1059\n",
      "Time taken: 182.18 seconds\n",
      "========================================================================================== \n",
      "\n",
      "============================== Epoch 7/30\n"
     ]
    },
    {
     "name": "stderr",
     "output_type": "stream",
     "text": [
      "Train: 100%|██████████| 694/694 [01:49<00:00,  6.36it/s]\n",
      "Val: 100%|██████████| 5546/5546 [00:55<00:00, 99.67it/s] \n"
     ]
    },
    {
     "name": "stdout",
     "output_type": "stream",
     "text": [
      "Train:\tAccuracy: 0.9869\tLoss: 0.0419\n",
      "Valid:\tAccuracy: 0.9652\tLoss: 0.1255\n",
      "Time taken: 164.72 seconds\n",
      "========================================================================================== \n",
      "\n",
      "============================== Epoch 8/30\n"
     ]
    },
    {
     "name": "stderr",
     "output_type": "stream",
     "text": [
      "Train: 100%|██████████| 694/694 [01:56<00:00,  5.98it/s]\n",
      "Val: 100%|██████████| 5546/5546 [00:58<00:00, 94.93it/s] \n"
     ]
    },
    {
     "name": "stdout",
     "output_type": "stream",
     "text": [
      "Train:\tAccuracy: 0.9886\tLoss: 0.0359\n",
      "Valid:\tAccuracy: 0.9688\tLoss: 0.1200\n",
      "Time taken: 174.50 seconds\n",
      "========================================================================================== \n",
      "\n",
      "============================== Epoch 9/30\n"
     ]
    },
    {
     "name": "stderr",
     "output_type": "stream",
     "text": [
      "Train: 100%|██████████| 694/694 [01:49<00:00,  6.34it/s]\n",
      "Val: 100%|██████████| 5546/5546 [00:55<00:00, 100.33it/s]\n"
     ]
    },
    {
     "name": "stdout",
     "output_type": "stream",
     "text": [
      "Train:\tAccuracy: 0.9876\tLoss: 0.0385\n",
      "Valid:\tAccuracy: 0.9645\tLoss: 0.1475\n",
      "Time taken: 164.79 seconds\n",
      "========================================================================================== \n",
      "\n",
      "============================== Epoch 10/30\n"
     ]
    },
    {
     "name": "stderr",
     "output_type": "stream",
     "text": [
      "Train: 100%|██████████| 694/694 [01:48<00:00,  6.37it/s]\n",
      "Val: 100%|██████████| 5546/5546 [00:54<00:00, 101.39it/s]\n"
     ]
    },
    {
     "name": "stdout",
     "output_type": "stream",
     "text": [
      "Train:\tAccuracy: 0.9876\tLoss: 0.0377\n",
      "Valid:\tAccuracy: 0.9690\tLoss: 0.1251\n",
      "Time taken: 163.70 seconds\n",
      "========================================================================================== \n",
      "\n",
      "============================== Epoch 11/30\n"
     ]
    },
    {
     "name": "stderr",
     "output_type": "stream",
     "text": [
      "Train: 100%|██████████| 694/694 [01:49<00:00,  6.33it/s]\n",
      "Val: 100%|██████████| 5546/5546 [00:55<00:00, 99.74it/s] \n"
     ]
    },
    {
     "name": "stdout",
     "output_type": "stream",
     "text": [
      "Train:\tAccuracy: 0.9904\tLoss: 0.0279\n",
      "Valid:\tAccuracy: 0.9681\tLoss: 0.1347\n",
      "Time taken: 165.32 seconds\n",
      "========================================================================================== \n",
      "\n",
      "============================== Epoch 12/30\n"
     ]
    },
    {
     "name": "stderr",
     "output_type": "stream",
     "text": [
      "Train: 100%|██████████| 694/694 [01:49<00:00,  6.32it/s]\n",
      "Val: 100%|██████████| 5546/5546 [00:54<00:00, 101.86it/s]\n"
     ]
    },
    {
     "name": "stdout",
     "output_type": "stream",
     "text": [
      "Train:\tAccuracy: 0.9904\tLoss: 0.0295\n",
      "Valid:\tAccuracy: 0.9692\tLoss: 0.1342\n",
      "Time taken: 164.34 seconds\n",
      "========================================================================================== \n",
      "\n",
      "============================== Epoch 13/30\n"
     ]
    },
    {
     "name": "stderr",
     "output_type": "stream",
     "text": [
      "Train: 100%|██████████| 694/694 [01:50<00:00,  6.29it/s]\n",
      "Val: 100%|██████████| 5546/5546 [00:55<00:00, 100.15it/s]\n"
     ]
    },
    {
     "name": "stdout",
     "output_type": "stream",
     "text": [
      "Train:\tAccuracy: 0.9911\tLoss: 0.0287\n",
      "Valid:\tAccuracy: 0.9724\tLoss: 0.1190\n",
      "Time taken: 165.66 seconds\n",
      "========================================================================================== \n",
      "\n",
      "============================== Epoch 14/30\n"
     ]
    },
    {
     "name": "stderr",
     "output_type": "stream",
     "text": [
      "Train: 100%|██████████| 694/694 [01:50<00:00,  6.27it/s]\n",
      "Val: 100%|██████████| 5546/5546 [00:55<00:00, 99.79it/s] \n"
     ]
    },
    {
     "name": "stdout",
     "output_type": "stream",
     "text": [
      "Train:\tAccuracy: 0.9898\tLoss: 0.0353\n",
      "Valid:\tAccuracy: 0.9656\tLoss: 0.1608\n",
      "Time taken: 166.30 seconds\n",
      "========================================================================================== \n",
      "\n",
      "============================== Epoch 15/30\n"
     ]
    },
    {
     "name": "stderr",
     "output_type": "stream",
     "text": [
      "Train: 100%|██████████| 694/694 [01:47<00:00,  6.43it/s]\n",
      "Val: 100%|██████████| 5546/5546 [00:55<00:00, 99.53it/s] \n"
     ]
    },
    {
     "name": "stdout",
     "output_type": "stream",
     "text": [
      "Train:\tAccuracy: 0.9902\tLoss: 0.0311\n",
      "Valid:\tAccuracy: 0.9712\tLoss: 0.1313\n",
      "Time taken: 163.59 seconds\n",
      "========================================================================================== \n",
      "\n",
      "============================== Epoch 16/30\n"
     ]
    },
    {
     "name": "stderr",
     "output_type": "stream",
     "text": [
      "Train: 100%|██████████| 694/694 [01:47<00:00,  6.44it/s]\n",
      "Val: 100%|██████████| 5546/5546 [00:55<00:00, 100.62it/s]\n"
     ]
    },
    {
     "name": "stdout",
     "output_type": "stream",
     "text": [
      "Train:\tAccuracy: 0.9900\tLoss: 0.0326\n",
      "Valid:\tAccuracy: 0.9710\tLoss: 0.1353\n",
      "Time taken: 162.91 seconds\n",
      "========================================================================================== \n",
      "\n",
      "============================== Epoch 17/30\n"
     ]
    },
    {
     "name": "stderr",
     "output_type": "stream",
     "text": [
      "Train: 100%|██████████| 694/694 [01:48<00:00,  6.42it/s]\n",
      "Val: 100%|██████████| 5546/5546 [00:55<00:00, 100.31it/s]\n"
     ]
    },
    {
     "name": "stdout",
     "output_type": "stream",
     "text": [
      "Train:\tAccuracy: 0.9936\tLoss: 0.0195\n",
      "Valid:\tAccuracy: 0.9679\tLoss: 0.1654\n",
      "Time taken: 163.38 seconds\n",
      "========================================================================================== \n",
      "\n",
      "============================== Epoch 18/30\n"
     ]
    },
    {
     "name": "stderr",
     "output_type": "stream",
     "text": [
      "Train: 100%|██████████| 694/694 [01:48<00:00,  6.38it/s]\n",
      "Val: 100%|██████████| 5546/5546 [00:55<00:00, 100.35it/s]\n"
     ]
    },
    {
     "name": "stdout",
     "output_type": "stream",
     "text": [
      "Train:\tAccuracy: 0.9921\tLoss: 0.0264\n",
      "Valid:\tAccuracy: 0.9657\tLoss: 0.1678\n",
      "Time taken: 164.12 seconds\n",
      "========================================================================================== \n",
      "\n",
      "============================== Epoch 19/30\n"
     ]
    },
    {
     "name": "stderr",
     "output_type": "stream",
     "text": [
      "Train: 100%|██████████| 694/694 [01:47<00:00,  6.44it/s]\n",
      "Val: 100%|██████████| 5546/5546 [00:56<00:00, 98.90it/s] \n"
     ]
    },
    {
     "name": "stdout",
     "output_type": "stream",
     "text": [
      "Train:\tAccuracy: 0.9922\tLoss: 0.0253\n",
      "Valid:\tAccuracy: 0.9645\tLoss: 0.1802\n",
      "Time taken: 163.76 seconds\n",
      "========================================================================================== \n",
      "\n",
      "============================== Epoch 20/30\n"
     ]
    },
    {
     "name": "stderr",
     "output_type": "stream",
     "text": [
      "Train: 100%|██████████| 694/694 [01:47<00:00,  6.43it/s]\n",
      "Val: 100%|██████████| 5546/5546 [00:54<00:00, 102.68it/s]\n"
     ]
    },
    {
     "name": "stdout",
     "output_type": "stream",
     "text": [
      "Train:\tAccuracy: 0.9918\tLoss: 0.0283\n",
      "Valid:\tAccuracy: 0.9728\tLoss: 0.1473\n",
      "Time taken: 161.97 seconds\n",
      "========================================================================================== \n",
      "\n",
      "============================== Epoch 21/30\n"
     ]
    },
    {
     "name": "stderr",
     "output_type": "stream",
     "text": [
      "Train: 100%|██████████| 694/694 [01:48<00:00,  6.42it/s]\n",
      "Val: 100%|██████████| 5546/5546 [00:54<00:00, 101.06it/s]\n"
     ]
    },
    {
     "name": "stdout",
     "output_type": "stream",
     "text": [
      "Train:\tAccuracy: 0.9935\tLoss: 0.0221\n",
      "Valid:\tAccuracy: 0.9699\tLoss: 0.1651\n",
      "Time taken: 163.04 seconds\n",
      "========================================================================================== \n",
      "\n",
      "============================== Epoch 22/30\n"
     ]
    },
    {
     "name": "stderr",
     "output_type": "stream",
     "text": [
      "Train: 100%|██████████| 694/694 [01:48<00:00,  6.42it/s]\n",
      "Val: 100%|██████████| 5546/5546 [00:54<00:00, 102.39it/s]\n"
     ]
    },
    {
     "name": "stdout",
     "output_type": "stream",
     "text": [
      "Train:\tAccuracy: 0.9919\tLoss: 0.0315\n",
      "Valid:\tAccuracy: 0.9740\tLoss: 0.1553\n",
      "Time taken: 162.32 seconds\n",
      "========================================================================================== \n",
      "\n",
      "============================== Epoch 23/30\n"
     ]
    },
    {
     "name": "stderr",
     "output_type": "stream",
     "text": [
      "Train: 100%|██████████| 694/694 [01:48<00:00,  6.38it/s]\n",
      "Val: 100%|██████████| 5546/5546 [00:53<00:00, 103.21it/s]\n"
     ]
    },
    {
     "name": "stdout",
     "output_type": "stream",
     "text": [
      "Train:\tAccuracy: 0.9928\tLoss: 0.0247\n",
      "Valid:\tAccuracy: 0.9666\tLoss: 0.1812\n",
      "Time taken: 162.56 seconds\n",
      "========================================================================================== \n",
      "\n",
      "============================== Epoch 24/30\n"
     ]
    },
    {
     "name": "stderr",
     "output_type": "stream",
     "text": [
      "Train: 100%|██████████| 694/694 [01:49<00:00,  6.31it/s]\n",
      "Val: 100%|██████████| 5546/5546 [00:52<00:00, 105.40it/s]\n"
     ]
    },
    {
     "name": "stdout",
     "output_type": "stream",
     "text": [
      "Train:\tAccuracy: 0.9931\tLoss: 0.0272\n",
      "Valid:\tAccuracy: 0.9733\tLoss: 0.1440\n",
      "Time taken: 162.52 seconds\n",
      "========================================================================================== \n",
      "\n",
      "============================== Epoch 25/30\n"
     ]
    },
    {
     "name": "stderr",
     "output_type": "stream",
     "text": [
      "Train: 100%|██████████| 694/694 [01:51<00:00,  6.21it/s]\n",
      "Val: 100%|██████████| 5546/5546 [00:52<00:00, 106.41it/s]\n"
     ]
    },
    {
     "name": "stdout",
     "output_type": "stream",
     "text": [
      "Train:\tAccuracy: 0.9939\tLoss: 0.0215\n",
      "Valid:\tAccuracy: 0.9710\tLoss: 0.1875\n",
      "Time taken: 163.80 seconds\n",
      "========================================================================================== \n",
      "\n",
      "============================== Epoch 26/30\n"
     ]
    },
    {
     "name": "stderr",
     "output_type": "stream",
     "text": [
      "Train: 100%|██████████| 694/694 [01:48<00:00,  6.41it/s]\n",
      "Val: 100%|██████████| 5546/5546 [00:53<00:00, 104.03it/s]\n"
     ]
    },
    {
     "name": "stdout",
     "output_type": "stream",
     "text": [
      "Train:\tAccuracy: 0.9924\tLoss: 0.0267\n",
      "Valid:\tAccuracy: 0.9742\tLoss: 0.1464\n",
      "Time taken: 161.50 seconds\n",
      "========================================================================================== \n",
      "\n",
      "============================== Epoch 27/30\n"
     ]
    },
    {
     "name": "stderr",
     "output_type": "stream",
     "text": [
      "Train: 100%|██████████| 694/694 [01:51<00:00,  6.24it/s]\n",
      "Val: 100%|██████████| 5546/5546 [00:53<00:00, 103.81it/s]\n"
     ]
    },
    {
     "name": "stdout",
     "output_type": "stream",
     "text": [
      "Train:\tAccuracy: 0.9940\tLoss: 0.0212\n",
      "Valid:\tAccuracy: 0.9683\tLoss: 0.1852\n",
      "Time taken: 164.62 seconds\n",
      "========================================================================================== \n",
      "\n",
      "============================== Epoch 28/30\n"
     ]
    },
    {
     "name": "stderr",
     "output_type": "stream",
     "text": [
      "Train: 100%|██████████| 694/694 [01:48<00:00,  6.41it/s]\n",
      "Val: 100%|██████████| 5546/5546 [00:53<00:00, 104.24it/s]\n"
     ]
    },
    {
     "name": "stdout",
     "output_type": "stream",
     "text": [
      "Train:\tAccuracy: 0.9947\tLoss: 0.0197\n",
      "Valid:\tAccuracy: 0.9702\tLoss: 0.2052\n",
      "Time taken: 161.53 seconds\n",
      "========================================================================================== \n",
      "\n",
      "============================== Epoch 29/30\n"
     ]
    },
    {
     "name": "stderr",
     "output_type": "stream",
     "text": [
      "Train:  21%|██▏       | 148/694 [00:24<01:32,  5.90it/s]"
     ]
    }
   ],
   "source": [
    "from thesis.utils.pytorch import train_with_plots\n",
    "\n",
    "\n",
    "num_epochs = 30\n",
    "print(\"device\", device)\n",
    "train_with_plots(\"mobile_net_v2\", num_epochs, model, train_data, train_loader, test_data, test_loader, criterion, optimizer, device)"
   ]
  }
 ],
 "metadata": {
  "kernelspec": {
   "display_name": ".venv",
   "language": "python",
   "name": "python3"
  },
  "language_info": {
   "codemirror_mode": {
    "name": "ipython",
    "version": 3
   },
   "file_extension": ".py",
   "mimetype": "text/x-python",
   "name": "python",
   "nbconvert_exporter": "python",
   "pygments_lexer": "ipython3",
   "version": "3.13.3"
  }
 },
 "nbformat": 4,
 "nbformat_minor": 5
}
