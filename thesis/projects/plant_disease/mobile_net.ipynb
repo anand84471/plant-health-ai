{
 "cells": [
  {
   "cell_type": "code",
   "execution_count": 2,
   "id": "2baa586f",
   "metadata": {},
   "outputs": [],
   "source": [
    "import torch\n",
    "import torch.nn as nn\n",
    "import torch.optim as optim\n",
    "from torch.optim import lr_scheduler\n",
    "import torchvision\n",
    "from torchvision import datasets, models, transforms\n",
    "import numpy as np\n",
    "import matplotlib.pyplot as plt\n",
    "import time\n",
    "import os\n",
    "from PIL import Image\n",
    "from torch.utils.data import DataLoader, random_split\n",
    "from torchvision import transforms\n",
    "\n",
    "from tqdm import tqdm\n",
    "from thesis.utils.pytorch import loop_fn, evaluate, train"
   ]
  },
  {
   "cell_type": "code",
   "execution_count": 3,
   "id": "ce6f1e69",
   "metadata": {},
   "outputs": [
    {
     "name": "stdout",
     "output_type": "stream",
     "text": [
      "Total size: 20638\n",
      "Train size: 16510\n",
      "Val size: 2063\n",
      "Test size: 2065\n"
     ]
    }
   ],
   "source": [
    "# Define data transforms\n",
    "# MobileNetV2 expects 224x224 input images and specific normalization\n",
    "data_transforms = {\n",
    "    'train': transforms.Compose([\n",
    "        transforms.Resize(256),\n",
    "        transforms.RandomResizedCrop(224),          # phóng to rồi crop ngẫu nhiên vùng 224x224\n",
    "        transforms.RandomHorizontalFlip(p=0.5),     # lật ngang ảnh ngẫu nhiên\n",
    "        transforms.ColorJitter(brightness=0.2, contrast=0.2, saturation=0.2, hue=0.1),  # thay đổi màu sắc\n",
    "        transforms.RandomRotation(degrees=15),      # xoay ngẫu nhiên ±15 độ\n",
    "        transforms.RandomAffine(degrees=0, translate=(0.1, 0.1)),  # dịch ảnh\n",
    "        transforms.RandomPerspective(distortion_scale=0.2, p=0.5), # hiệu ứng phối cảnh\n",
    "        transforms.ToTensor(),                      # chuyển thành tensor\n",
    "        transforms.Normalize([0.485, 0.456, 0.406], [0.229, 0.224, 0.225])\n",
    "    ]),\n",
    "    'val': transforms.Compose([\n",
    "        transforms.Resize(256),\n",
    "        transforms.CenterCrop(224),\n",
    "        transforms.ToTensor(),\n",
    "        transforms.Normalize([0.485, 0.456, 0.406], [0.229, 0.224, 0.225])\n",
    "    ]),\n",
    "    'test': transforms.Compose([ # Often same as validation for consistent evaluation\n",
    "        transforms.Resize(256),\n",
    "        transforms.CenterCrop(224),\n",
    "        transforms.ToTensor(),\n",
    "        transforms.Normalize([0.485, 0.456, 0.406], [0.229, 0.224, 0.225])\n",
    "    ]),\n",
    "}\n",
    "\n",
    "\n",
    "# base_dir = \"/Users/anand/Desktop/1mg/repos/thesis/thesis/data/PlantDoc-Dataset\"\n",
    "base_dir = \"/Users/anand/Desktop/self/thesis/data/PlantVillage\"\n",
    "base_dataset = datasets.ImageFolder(base_dir)\n",
    "\n",
    "total_size = len(base_dataset)\n",
    "print('Total size:', total_size)\n",
    "train_size = int(0.8 * total_size)\n",
    "val_size = int(0.1 * total_size)\n",
    "test_size = total_size - train_size - val_size\n",
    "\n",
    "print('Train size:', train_size)\n",
    "print('Val size:', val_size)\n",
    "print('Test size:', test_size)\n",
    "\n",
    "train_data, val_data, test_data = random_split(\n",
    "    base_dataset, [train_size, val_size, test_size],\n",
    "    generator=torch.Generator().manual_seed(42)\n",
    ")\n",
    "\n",
    "train_data.dataset.transform = data_transforms[\"train\"]\n",
    "val_data.dataset.transform = data_transforms[\"val\"]\n",
    "test_data.dataset.transform = data_transforms[\"test\"]\n",
    "\n",
    "batch_size = 64\n",
    "train_loader = DataLoader(train_data, batch_size=batch_size, shuffle=True, pin_memory=True)\n",
    "val_loader = DataLoader(val_data, batch_size=batch_size, shuffle=True, pin_memory=True)\n",
    "test_loader = DataLoader(test_data, shuffle=True, pin_memory=True)\n"
   ]
  },
  {
   "cell_type": "code",
   "execution_count": null,
   "id": "0a930669",
   "metadata": {},
   "outputs": [
    {
     "name": "stdout",
     "output_type": "stream",
     "text": [
      "dict_keys([7, 6, 0, 1, 9, 12, 11, 14, 8, 5, 3, 2, 4, 13, 10])\n",
      "Counter({12: 334, 5: 241, 7: 175, 9: 172, 10: 165, 14: 158, 1: 149, 11: 127, 2: 108, 0: 104, 8: 98, 3: 93, 6: 87, 13: 40, 4: 12})\n",
      "Counter({12: 331, 5: 207, 7: 186, 9: 177, 10: 174, 1: 158, 14: 139, 11: 132, 3: 118, 6: 109, 2: 106, 8: 93, 0: 84, 13: 33, 4: 18})\n"
     ]
    }
   ],
   "source": [
    "from collections import Counter\n",
    "\n",
    "# These give you the label for each sample in the subset\n",
    "train_labels = [label for _, label in train_data]\n",
    "val_labels = [label for _, label in val_data]\n",
    "test_labels = [label for _, label in test_data]\n",
    "\n",
    "train_counters = Counter(train_labels)\n",
    "val_counters =  Counter(val_labels)\n",
    "test_counters = Counter(test_labels)\n",
    "\n",
    "\n",
    "\n",
    "\n"
   ]
  },
  {
   "cell_type": "code",
   "execution_count": 49,
   "id": "9e42d8b4",
   "metadata": {},
   "outputs": [
    {
     "name": "stdout",
     "output_type": "stream",
     "text": [
      "[0, 1, 2, 3, 4, 5, 6, 7, 8, 9, 10, 11, 12, 13, 14]\n",
      "[0, 1, 2, 3, 4, 5, 6, 7, 8, 9, 10, 11, 12, 13, 14]\n",
      "[0, 1, 2, 3, 4, 5, 6, 7, 8, 9, 10, 11, 12, 13, 14]\n"
     ]
    }
   ],
   "source": [
    "x = list(train_counters.keys())\n",
    "x.sort()\n",
    "print(x)\n",
    "\n",
    "y = list(val_counters.keys())\n",
    "y.sort()\n",
    "print(y)\n",
    "\n",
    "z = list(test_counters.keys())\n",
    "z.sort()\n",
    "print(z)\n"
   ]
  },
  {
   "cell_type": "code",
   "execution_count": null,
   "id": "6d9cc08a",
   "metadata": {},
   "outputs": [
    {
     "name": "stdout",
     "output_type": "stream",
     "text": [
      "<torch.utils.data.dataloader.DataLoader object at 0x178616c50>\n"
     ]
    }
   ],
   "source": [
    "print(train_loader)"
   ]
  },
  {
   "cell_type": "code",
   "execution_count": 13,
   "id": "37d34986",
   "metadata": {},
   "outputs": [],
   "source": [
    "class Transformer(nn.Module):\n",
    "    def __init__(self, dim, depth, heads, mlp_dim):\n",
    "        super().__init__()\n",
    "        self.layers = nn.ModuleList([\n",
    "            nn.TransformerEncoderLayer(\n",
    "                d_model=dim, \n",
    "                nhead=heads, \n",
    "                dim_feedforward=mlp_dim,\n",
    "                activation=\"gelu\",\n",
    "                batch_first=True\n",
    "            )\n",
    "            for _ in range(depth)\n",
    "        ])\n",
    "\n",
    "    def forward(self, x):\n",
    "        for layer in self.layers:\n",
    "            x = layer(x)\n",
    "        return x\n"
   ]
  },
  {
   "cell_type": "code",
   "execution_count": 10,
   "id": "09fbc4d8",
   "metadata": {},
   "outputs": [],
   "source": [
    "class MobileViTBlock(nn.Module):\n",
    "    def __init__(self, in_channels, transformer_dim, ffn_dim, n_transformer_blocks, patch_size):\n",
    "        super().__init__()\n",
    "        self.local_rep = nn.Sequential(\n",
    "            nn.Conv2d(in_channels, in_channels, kernel_size=3, padding=1, groups=in_channels),\n",
    "            nn.BatchNorm2d(in_channels),\n",
    "            nn.Conv2d(in_channels, transformer_dim, kernel_size=1),\n",
    "            nn.BatchNorm2d(transformer_dim),\n",
    "            nn.ReLU()\n",
    "        )\n",
    "        \n",
    "        self.transformer = Transformer(\n",
    "            dim=transformer_dim,\n",
    "            depth=n_transformer_blocks,\n",
    "            heads=4,\n",
    "            mlp_dim=ffn_dim\n",
    "        )\n",
    "\n",
    "        self.fuse = nn.Sequential(\n",
    "            nn.Conv2d(transformer_dim, in_channels, kernel_size=1),\n",
    "            nn.BatchNorm2d(in_channels),\n",
    "            nn.ReLU()\n",
    "        )\n",
    "\n",
    "        self.patch_size = patch_size\n",
    "\n",
    "    def forward(self, x):\n",
    "        y = self.local_rep(x)  # shape: [B, C, H, W]\n",
    "        B, C, H, W = y.shape\n",
    "        ph, pw = self.patch_size\n",
    "\n",
    "        # Flatten patches\n",
    "        y = y.unfold(2, ph, ph).unfold(3, pw, pw)  # shape: [B, C, H/ph, W/pw, ph, pw]\n",
    "        y = y.contiguous().view(B, C, -1, ph * pw)  # [B, C, N, P]\n",
    "        y = y.permute(0, 2, 1, 3).contiguous().view(B * y.shape[2], ph * pw, C)  # [B*N, P, C]\n",
    "\n",
    "        y = self.transformer(y)  # [B*N, P, C]\n",
    "\n",
    "        # Reshape back\n",
    "        y = y.view(B, -1, ph * pw, C).permute(0, 3, 1, 2)  # [B, C, N, P]\n",
    "        num_patches = y.shape[2]\n",
    "        patches_per_row = W // pw\n",
    "        y = y.view(B, C, H, W)\n",
    "\n",
    "        return self.fuse(y)\n"
   ]
  },
  {
   "cell_type": "code",
   "execution_count": 9,
   "id": "4667c1f7",
   "metadata": {},
   "outputs": [],
   "source": [
    "class MobileViT(nn.Module):\n",
    "    def __init__(self, num_classes=1000):\n",
    "        super().__init__()\n",
    "        self.stem = nn.Sequential(\n",
    "            nn.Conv2d(3, 16, kernel_size=3, stride=2, padding=1),\n",
    "            nn.BatchNorm2d(16),\n",
    "            nn.ReLU()\n",
    "        )\n",
    "\n",
    "        self.mv2_block = InvertedResidualBlock(16, 32, stride=1, expand_ratio=2)\n",
    "\n",
    "        self.mv2_block2 = InvertedResidualBlock(32, 64, stride=2, expand_ratio=2)\n",
    "\n",
    "        self.mvit_block = MobileViTBlock(\n",
    "            in_channels=64,\n",
    "            transformer_dim=96,\n",
    "            ffn_dim=192,\n",
    "            n_transformer_blocks=2,\n",
    "            patch_size=(2, 2)\n",
    "        )\n",
    "\n",
    "        self.head = nn.Sequential(\n",
    "            nn.AdaptiveAvgPool2d((1, 1)),\n",
    "            nn.Flatten(),\n",
    "            nn.Linear(64, num_classes)\n",
    "        )\n",
    "\n",
    "    def forward(self, x):\n",
    "        x = self.stem(x)\n",
    "        x = self.mv2_block(x)\n",
    "        x = self.mv2_block2(x)\n",
    "        x = self.mvit_block(x)\n",
    "        x = self.head(x)\n",
    "        return x\n"
   ]
  },
  {
   "cell_type": "code",
   "execution_count": 7,
   "id": "6dc5e037",
   "metadata": {},
   "outputs": [],
   "source": [
    "class InvertedResidualBlock(nn.Module):\n",
    "    def __init__(self, in_channels, out_channels, stride, expand_ratio):\n",
    "        super().__init__()\n",
    "        hidden_dim = in_channels * expand_ratio\n",
    "        self.use_res_connect = (stride == 1 and in_channels == out_channels)\n",
    "\n",
    "        layers = []\n",
    "        if expand_ratio != 1:\n",
    "            layers.extend([\n",
    "                nn.Conv2d(in_channels, hidden_dim, 1, bias=False),\n",
    "                nn.BatchNorm2d(hidden_dim),\n",
    "                nn.ReLU6(inplace=True),\n",
    "            ])\n",
    "        \n",
    "        layers.extend([\n",
    "            nn.Conv2d(hidden_dim, hidden_dim, 3, stride=stride, padding=1, groups=hidden_dim, bias=False),\n",
    "            nn.BatchNorm2d(hidden_dim),\n",
    "            nn.ReLU6(inplace=True),\n",
    "            nn.Conv2d(hidden_dim, out_channels, 1, bias=False),\n",
    "            nn.BatchNorm2d(out_channels),\n",
    "        ])\n",
    "\n",
    "        self.block = nn.Sequential(*layers)\n",
    "\n",
    "    def forward(self, x):\n",
    "        if self.use_res_connect:\n",
    "            return x + self.block(x)\n",
    "        else:\n",
    "            return self.block(x)\n"
   ]
  },
  {
   "cell_type": "code",
   "execution_count": 10,
   "id": "0b2b9b67",
   "metadata": {},
   "outputs": [],
   "source": [
    "model = MobileViT(num_classes=100)"
   ]
  },
  {
   "cell_type": "code",
   "execution_count": 11,
   "id": "74340050",
   "metadata": {},
   "outputs": [
    {
     "name": "stdout",
     "output_type": "stream",
     "text": [
      "Using device: mps\n"
     ]
    }
   ],
   "source": [
    "device = torch.device(\"mps\" if torch.mps.is_available() else \"cpu\")\n",
    "print(\"Using device:\", device)"
   ]
  },
  {
   "cell_type": "code",
   "execution_count": 14,
   "id": "31419c8b",
   "metadata": {},
   "outputs": [
    {
     "name": "stdout",
     "output_type": "stream",
     "text": [
      "classes: 15\n"
     ]
    }
   ],
   "source": [
    "num_classes = len(base_dataset.classes)  # Automatically detect from dataset\n",
    "model = MobileViT(num_classes=num_classes).to(device)\n",
    "\n",
    "criterion = nn.CrossEntropyLoss()\n",
    "optimizer = torch.optim.Adam(model.parameters(), lr=0.001)\n",
    "print(\"classes:\", num_classes)"
   ]
  },
  {
   "cell_type": "code",
   "execution_count": 53,
   "id": "c1f4ad96",
   "metadata": {},
   "outputs": [
    {
     "name": "stdout",
     "output_type": "stream",
     "text": [
      "\n",
      "Epoch 1/10\n"
     ]
    },
    {
     "name": "stderr",
     "output_type": "stream",
     "text": [
      "Train:   0%|          | 0/258 [00:00<?, ?it/s]/Users/anand/Desktop/1mg/repos/thesis/.venv/lib/python3.13/site-packages/torch/utils/data/dataloader.py:683: UserWarning: 'pin_memory' argument is set as true but not supported on MPS now, then device pinned memory won't be used.\n",
      "  warnings.warn(warn_msg)\n",
      "Train: 100%|██████████| 258/258 [04:01<00:00,  1.07it/s]\n"
     ]
    },
    {
     "name": "stdout",
     "output_type": "stream",
     "text": [
      "Train Loss: 1.5678 | Train Acc: 0.5374\n"
     ]
    },
    {
     "name": "stderr",
     "output_type": "stream",
     "text": [
      "Val: 100%|██████████| 33/33 [01:07<00:00,  2.04s/it]\n"
     ]
    },
    {
     "name": "stdout",
     "output_type": "stream",
     "text": [
      "Val Loss: 1.1911 | Val Acc: 0.6292\n",
      "\n",
      "Epoch 2/10\n"
     ]
    },
    {
     "name": "stderr",
     "output_type": "stream",
     "text": [
      "Train: 100%|██████████| 258/258 [03:19<00:00,  1.29it/s]\n"
     ]
    },
    {
     "name": "stdout",
     "output_type": "stream",
     "text": [
      "Train Loss: 0.8786 | Train Acc: 0.7338\n"
     ]
    },
    {
     "name": "stderr",
     "output_type": "stream",
     "text": [
      "Val: 100%|██████████| 33/33 [00:16<00:00,  1.96it/s]\n"
     ]
    },
    {
     "name": "stdout",
     "output_type": "stream",
     "text": [
      "Val Loss: 1.6550 | Val Acc: 0.4353\n",
      "\n",
      "Epoch 3/10\n"
     ]
    },
    {
     "name": "stderr",
     "output_type": "stream",
     "text": [
      "Train: 100%|██████████| 258/258 [03:20<00:00,  1.28it/s]\n"
     ]
    },
    {
     "name": "stdout",
     "output_type": "stream",
     "text": [
      "Train Loss: 0.6445 | Train Acc: 0.8114\n"
     ]
    },
    {
     "name": "stderr",
     "output_type": "stream",
     "text": [
      "Val: 100%|██████████| 33/33 [00:11<00:00,  2.79it/s]\n"
     ]
    },
    {
     "name": "stdout",
     "output_type": "stream",
     "text": [
      "Val Loss: 1.0003 | Val Acc: 0.6810\n",
      "\n",
      "Epoch 4/10\n"
     ]
    },
    {
     "name": "stderr",
     "output_type": "stream",
     "text": [
      "Train: 100%|██████████| 258/258 [03:26<00:00,  1.25it/s]\n"
     ]
    },
    {
     "name": "stdout",
     "output_type": "stream",
     "text": [
      "Train Loss: 0.5073 | Train Acc: 0.8515\n"
     ]
    },
    {
     "name": "stderr",
     "output_type": "stream",
     "text": [
      "Val: 100%|██████████| 33/33 [00:13<00:00,  2.53it/s]\n"
     ]
    },
    {
     "name": "stdout",
     "output_type": "stream",
     "text": [
      "Val Loss: 1.3838 | Val Acc: 0.5080\n",
      "\n",
      "Epoch 5/10\n"
     ]
    },
    {
     "name": "stderr",
     "output_type": "stream",
     "text": [
      "Train: 100%|██████████| 258/258 [03:48<00:00,  1.13it/s]\n"
     ]
    },
    {
     "name": "stdout",
     "output_type": "stream",
     "text": [
      "Train Loss: 0.4132 | Train Acc: 0.8783\n"
     ]
    },
    {
     "name": "stderr",
     "output_type": "stream",
     "text": [
      "Val: 100%|██████████| 33/33 [00:13<00:00,  2.51it/s]\n"
     ]
    },
    {
     "name": "stdout",
     "output_type": "stream",
     "text": [
      "Val Loss: 0.7398 | Val Acc: 0.7620\n",
      "\n",
      "Epoch 6/10\n"
     ]
    },
    {
     "name": "stderr",
     "output_type": "stream",
     "text": [
      "Train: 100%|██████████| 258/258 [03:31<00:00,  1.22it/s]\n"
     ]
    },
    {
     "name": "stdout",
     "output_type": "stream",
     "text": [
      "Train Loss: 0.3469 | Train Acc: 0.8986\n"
     ]
    },
    {
     "name": "stderr",
     "output_type": "stream",
     "text": [
      "Val: 100%|██████████| 33/33 [00:18<00:00,  1.80it/s]\n"
     ]
    },
    {
     "name": "stdout",
     "output_type": "stream",
     "text": [
      "Val Loss: 1.5333 | Val Acc: 0.4905\n",
      "\n",
      "Epoch 7/10\n"
     ]
    },
    {
     "name": "stderr",
     "output_type": "stream",
     "text": [
      "Train: 100%|██████████| 258/258 [03:26<00:00,  1.25it/s]\n"
     ]
    },
    {
     "name": "stdout",
     "output_type": "stream",
     "text": [
      "Train Loss: 0.2956 | Train Acc: 0.9138\n"
     ]
    },
    {
     "name": "stderr",
     "output_type": "stream",
     "text": [
      "Val: 100%|██████████| 33/33 [00:12<00:00,  2.73it/s]\n"
     ]
    },
    {
     "name": "stdout",
     "output_type": "stream",
     "text": [
      "Val Loss: 3.0479 | Val Acc: 0.3345\n",
      "\n",
      "Epoch 8/10\n"
     ]
    },
    {
     "name": "stderr",
     "output_type": "stream",
     "text": [
      "Train: 100%|██████████| 258/258 [03:09<00:00,  1.36it/s]\n"
     ]
    },
    {
     "name": "stdout",
     "output_type": "stream",
     "text": [
      "Train Loss: 0.2635 | Train Acc: 0.9242\n"
     ]
    },
    {
     "name": "stderr",
     "output_type": "stream",
     "text": [
      "Val: 100%|██████████| 33/33 [00:11<00:00,  2.75it/s]\n"
     ]
    },
    {
     "name": "stdout",
     "output_type": "stream",
     "text": [
      "Val Loss: 0.6728 | Val Acc: 0.7654\n",
      "\n",
      "Epoch 9/10\n"
     ]
    },
    {
     "name": "stderr",
     "output_type": "stream",
     "text": [
      "Train: 100%|██████████| 258/258 [03:12<00:00,  1.34it/s]\n"
     ]
    },
    {
     "name": "stdout",
     "output_type": "stream",
     "text": [
      "Train Loss: 0.2299 | Train Acc: 0.9301\n"
     ]
    },
    {
     "name": "stderr",
     "output_type": "stream",
     "text": [
      "Val: 100%|██████████| 33/33 [00:15<00:00,  2.18it/s]\n"
     ]
    },
    {
     "name": "stdout",
     "output_type": "stream",
     "text": [
      "Val Loss: 1.3502 | Val Acc: 0.5022\n",
      "\n",
      "Epoch 10/10\n"
     ]
    },
    {
     "name": "stderr",
     "output_type": "stream",
     "text": [
      "Train: 100%|██████████| 258/258 [03:08<00:00,  1.37it/s]\n"
     ]
    },
    {
     "name": "stdout",
     "output_type": "stream",
     "text": [
      "Train Loss: 0.2131 | Train Acc: 0.9374\n"
     ]
    },
    {
     "name": "stderr",
     "output_type": "stream",
     "text": [
      "Val: 100%|██████████| 33/33 [00:11<00:00,  2.77it/s]"
     ]
    },
    {
     "name": "stdout",
     "output_type": "stream",
     "text": [
      "Val Loss: 2.1825 | Val Acc: 0.4295\n"
     ]
    },
    {
     "name": "stderr",
     "output_type": "stream",
     "text": [
      "\n"
     ]
    }
   ],
   "source": [
    "epochs = 10\n",
    "\n",
    "for epoch in range(epochs):\n",
    "    print(f\"\\nEpoch {epoch+1}/{epochs}\")\n",
    "    \n",
    "    train_loss, train_acc = loop_fn('train', train_data, train_loader, model, criterion, optimizer, device)\n",
    "    print(f\"Train Loss: {train_loss:.4f} | Train Acc: {train_acc:.4f}\")\n",
    "    \n",
    "    val_loss, val_acc = loop_fn('val', val_data, val_loader, model, criterion, optimizer, device)\n",
    "    print(f\"Val Loss: {val_loss:.4f} | Val Acc: {val_acc:.4f}\")"
   ]
  },
  {
   "cell_type": "code",
   "execution_count": null,
   "id": "522f4a76",
   "metadata": {},
   "outputs": [],
   "source": [
    "torch.save(model.state_dict(), \"mobilevit_model.pth\")"
   ]
  },
  {
   "cell_type": "code",
   "execution_count": 54,
   "id": "f04e783f",
   "metadata": {},
   "outputs": [
    {
     "name": "stdout",
     "output_type": "stream",
     "text": [
      "No of features:  1280\n",
      "Num classes:  15\n",
      "============================== Epoch 1:\n"
     ]
    },
    {
     "name": "stderr",
     "output_type": "stream",
     "text": [
      "Train: 100%|██████████| 258/258 [00:55<00:00,  4.65it/s]\n"
     ]
    },
    {
     "name": "stdout",
     "output_type": "stream",
     "text": [
      "===Train:\t|\tAccuracy: 0.7684\t|\tLoss: 1.0014\n"
     ]
    },
    {
     "name": "stderr",
     "output_type": "stream",
     "text": [
      "Val: 100%|██████████| 2065/2065 [00:19<00:00, 103.67it/s]\n"
     ]
    },
    {
     "name": "stdout",
     "output_type": "stream",
     "text": [
      "===Valid:\t|\tAccuracy: 0.8978\t|\tLoss: 0.4875\n",
      "========================================================================================== \n",
      "\n",
      "\n",
      "\n",
      "============================== Epoch 2:\n"
     ]
    },
    {
     "name": "stderr",
     "output_type": "stream",
     "text": [
      "Train: 100%|██████████| 258/258 [00:49<00:00,  5.17it/s]\n"
     ]
    },
    {
     "name": "stdout",
     "output_type": "stream",
     "text": [
      "===Train:\t|\tAccuracy: 0.8945\t|\tLoss: 0.4424\n"
     ]
    },
    {
     "name": "stderr",
     "output_type": "stream",
     "text": [
      "Val: 100%|██████████| 2065/2065 [00:19<00:00, 107.02it/s]\n"
     ]
    },
    {
     "name": "stdout",
     "output_type": "stream",
     "text": [
      "===Valid:\t|\tAccuracy: 0.9172\t|\tLoss: 0.3372\n",
      "========================================================================================== \n",
      "\n",
      "\n",
      "\n",
      "============================== Epoch 3:\n"
     ]
    },
    {
     "name": "stderr",
     "output_type": "stream",
     "text": [
      "Train: 100%|██████████| 258/258 [00:51<00:00,  4.96it/s]\n"
     ]
    },
    {
     "name": "stdout",
     "output_type": "stream",
     "text": [
      "===Train:\t|\tAccuracy: 0.9111\t|\tLoss: 0.3360\n"
     ]
    },
    {
     "name": "stderr",
     "output_type": "stream",
     "text": [
      "Val: 100%|██████████| 2065/2065 [00:20<00:00, 102.16it/s]\n"
     ]
    },
    {
     "name": "stdout",
     "output_type": "stream",
     "text": [
      "===Valid:\t|\tAccuracy: 0.9308\t|\tLoss: 0.2715\n",
      "========================================================================================== \n",
      "\n",
      "\n",
      "\n",
      "============================== Epoch 4:\n"
     ]
    },
    {
     "name": "stderr",
     "output_type": "stream",
     "text": [
      "Train: 100%|██████████| 258/258 [00:49<00:00,  5.24it/s]\n"
     ]
    },
    {
     "name": "stdout",
     "output_type": "stream",
     "text": [
      "===Train:\t|\tAccuracy: 0.9240\t|\tLoss: 0.2866\n"
     ]
    },
    {
     "name": "stderr",
     "output_type": "stream",
     "text": [
      "Val: 100%|██████████| 2065/2065 [00:19<00:00, 105.00it/s]\n"
     ]
    },
    {
     "name": "stdout",
     "output_type": "stream",
     "text": [
      "===Valid:\t|\tAccuracy: 0.9361\t|\tLoss: 0.2400\n",
      "========================================================================================== \n",
      "\n",
      "\n",
      "\n",
      "============================== Epoch 5:\n"
     ]
    },
    {
     "name": "stderr",
     "output_type": "stream",
     "text": [
      "Train: 100%|██████████| 258/258 [00:48<00:00,  5.33it/s]\n"
     ]
    },
    {
     "name": "stdout",
     "output_type": "stream",
     "text": [
      "===Train:\t|\tAccuracy: 0.9306\t|\tLoss: 0.2515\n"
     ]
    },
    {
     "name": "stderr",
     "output_type": "stream",
     "text": [
      "Val: 100%|██████████| 2065/2065 [00:19<00:00, 105.57it/s]\n"
     ]
    },
    {
     "name": "stdout",
     "output_type": "stream",
     "text": [
      "===Valid:\t|\tAccuracy: 0.9424\t|\tLoss: 0.2174\n",
      "========================================================================================== \n",
      "\n",
      "\n",
      "\n",
      "============================== Epoch 6:\n"
     ]
    },
    {
     "name": "stderr",
     "output_type": "stream",
     "text": [
      "Train: 100%|██████████| 258/258 [00:50<00:00,  5.15it/s]\n"
     ]
    },
    {
     "name": "stdout",
     "output_type": "stream",
     "text": [
      "===Train:\t|\tAccuracy: 0.9341\t|\tLoss: 0.2290\n"
     ]
    },
    {
     "name": "stderr",
     "output_type": "stream",
     "text": [
      "Val: 100%|██████████| 2065/2065 [00:19<00:00, 103.70it/s]\n"
     ]
    },
    {
     "name": "stdout",
     "output_type": "stream",
     "text": [
      "===Valid:\t|\tAccuracy: 0.9400\t|\tLoss: 0.2032\n",
      "========================================================================================== \n",
      "\n",
      "\n",
      "\n",
      "============================== Epoch 7:\n"
     ]
    },
    {
     "name": "stderr",
     "output_type": "stream",
     "text": [
      "Train: 100%|██████████| 258/258 [00:48<00:00,  5.34it/s]\n"
     ]
    },
    {
     "name": "stdout",
     "output_type": "stream",
     "text": [
      "===Train:\t|\tAccuracy: 0.9383\t|\tLoss: 0.2114\n"
     ]
    },
    {
     "name": "stderr",
     "output_type": "stream",
     "text": [
      "Val: 100%|██████████| 2065/2065 [00:19<00:00, 103.78it/s]\n"
     ]
    },
    {
     "name": "stdout",
     "output_type": "stream",
     "text": [
      "===Valid:\t|\tAccuracy: 0.9438\t|\tLoss: 0.1922\n",
      "========================================================================================== \n",
      "\n",
      "\n",
      "\n",
      "============================== Epoch 8:\n"
     ]
    },
    {
     "name": "stderr",
     "output_type": "stream",
     "text": [
      "Train: 100%|██████████| 258/258 [00:50<00:00,  5.10it/s]\n"
     ]
    },
    {
     "name": "stdout",
     "output_type": "stream",
     "text": [
      "===Train:\t|\tAccuracy: 0.9427\t|\tLoss: 0.1976\n"
     ]
    },
    {
     "name": "stderr",
     "output_type": "stream",
     "text": [
      "Val: 100%|██████████| 2065/2065 [00:19<00:00, 106.39it/s]\n"
     ]
    },
    {
     "name": "stdout",
     "output_type": "stream",
     "text": [
      "===Valid:\t|\tAccuracy: 0.9482\t|\tLoss: 0.1810\n",
      "========================================================================================== \n",
      "\n",
      "\n",
      "\n",
      "============================== Epoch 9:\n"
     ]
    },
    {
     "name": "stderr",
     "output_type": "stream",
     "text": [
      "Train: 100%|██████████| 258/258 [00:49<00:00,  5.26it/s]\n"
     ]
    },
    {
     "name": "stdout",
     "output_type": "stream",
     "text": [
      "===Train:\t|\tAccuracy: 0.9453\t|\tLoss: 0.1869\n"
     ]
    },
    {
     "name": "stderr",
     "output_type": "stream",
     "text": [
      "Val: 100%|██████████| 2065/2065 [00:19<00:00, 104.86it/s]\n"
     ]
    },
    {
     "name": "stdout",
     "output_type": "stream",
     "text": [
      "===Valid:\t|\tAccuracy: 0.9448\t|\tLoss: 0.1804\n",
      "========================================================================================== \n",
      "\n",
      "\n",
      "\n",
      "============================== Epoch 10:\n"
     ]
    },
    {
     "name": "stderr",
     "output_type": "stream",
     "text": [
      "Train: 100%|██████████| 258/258 [00:48<00:00,  5.34it/s]\n"
     ]
    },
    {
     "name": "stdout",
     "output_type": "stream",
     "text": [
      "===Train:\t|\tAccuracy: 0.9477\t|\tLoss: 0.1768\n"
     ]
    },
    {
     "name": "stderr",
     "output_type": "stream",
     "text": [
      "Val: 100%|██████████| 2065/2065 [00:19<00:00, 105.15it/s]\n"
     ]
    },
    {
     "name": "stdout",
     "output_type": "stream",
     "text": [
      "===Valid:\t|\tAccuracy: 0.9472\t|\tLoss: 0.1741\n",
      "========================================================================================== \n",
      "\n",
      "\n",
      "\n",
      "============================== Epoch 11:\n"
     ]
    },
    {
     "name": "stderr",
     "output_type": "stream",
     "text": [
      "Train: 100%|██████████| 258/258 [00:49<00:00,  5.22it/s]\n"
     ]
    },
    {
     "name": "stdout",
     "output_type": "stream",
     "text": [
      "===Train:\t|\tAccuracy: 0.9511\t|\tLoss: 0.1685\n"
     ]
    },
    {
     "name": "stderr",
     "output_type": "stream",
     "text": [
      "Val: 100%|██████████| 2065/2065 [00:19<00:00, 107.19it/s]\n"
     ]
    },
    {
     "name": "stdout",
     "output_type": "stream",
     "text": [
      "===Valid:\t|\tAccuracy: 0.9482\t|\tLoss: 0.1681\n",
      "========================================================================================== \n",
      "\n",
      "\n",
      "\n",
      "============================== Epoch 12:\n"
     ]
    },
    {
     "name": "stderr",
     "output_type": "stream",
     "text": [
      "Train: 100%|██████████| 258/258 [00:47<00:00,  5.38it/s]\n"
     ]
    },
    {
     "name": "stdout",
     "output_type": "stream",
     "text": [
      "===Train:\t|\tAccuracy: 0.9487\t|\tLoss: 0.1668\n"
     ]
    },
    {
     "name": "stderr",
     "output_type": "stream",
     "text": [
      "Val: 100%|██████████| 2065/2065 [00:19<00:00, 105.53it/s]\n"
     ]
    },
    {
     "name": "stdout",
     "output_type": "stream",
     "text": [
      "===Valid:\t|\tAccuracy: 0.9506\t|\tLoss: 0.1678\n",
      "========================================================================================== \n",
      "\n",
      "\n",
      "\n",
      "============================== Epoch 13:\n"
     ]
    },
    {
     "name": "stderr",
     "output_type": "stream",
     "text": [
      "Train: 100%|██████████| 258/258 [00:47<00:00,  5.45it/s]\n"
     ]
    },
    {
     "name": "stdout",
     "output_type": "stream",
     "text": [
      "===Train:\t|\tAccuracy: 0.9531\t|\tLoss: 0.1554\n"
     ]
    },
    {
     "name": "stderr",
     "output_type": "stream",
     "text": [
      "Val: 100%|██████████| 2065/2065 [00:19<00:00, 106.48it/s]\n"
     ]
    },
    {
     "name": "stdout",
     "output_type": "stream",
     "text": [
      "===Valid:\t|\tAccuracy: 0.9516\t|\tLoss: 0.1640\n",
      "========================================================================================== \n",
      "\n",
      "\n",
      "\n",
      "============================== Epoch 14:\n"
     ]
    },
    {
     "name": "stderr",
     "output_type": "stream",
     "text": [
      "Train: 100%|██████████| 258/258 [00:48<00:00,  5.35it/s]\n"
     ]
    },
    {
     "name": "stdout",
     "output_type": "stream",
     "text": [
      "===Train:\t|\tAccuracy: 0.9548\t|\tLoss: 0.1497\n"
     ]
    },
    {
     "name": "stderr",
     "output_type": "stream",
     "text": [
      "Val: 100%|██████████| 2065/2065 [00:19<00:00, 107.98it/s]\n"
     ]
    },
    {
     "name": "stdout",
     "output_type": "stream",
     "text": [
      "===Valid:\t|\tAccuracy: 0.9525\t|\tLoss: 0.1572\n",
      "========================================================================================== \n",
      "\n",
      "\n",
      "\n",
      "============================== Epoch 15:\n"
     ]
    },
    {
     "name": "stderr",
     "output_type": "stream",
     "text": [
      "Train: 100%|██████████| 258/258 [00:48<00:00,  5.31it/s]\n"
     ]
    },
    {
     "name": "stdout",
     "output_type": "stream",
     "text": [
      "===Train:\t|\tAccuracy: 0.9569\t|\tLoss: 0.1442\n"
     ]
    },
    {
     "name": "stderr",
     "output_type": "stream",
     "text": [
      "Val: 100%|██████████| 2065/2065 [00:18<00:00, 108.72it/s]\n"
     ]
    },
    {
     "name": "stdout",
     "output_type": "stream",
     "text": [
      "===Valid:\t|\tAccuracy: 0.9525\t|\tLoss: 0.1588\n",
      "========================================================================================== \n",
      "\n",
      "\n",
      "\n",
      "============================== Epoch 16:\n"
     ]
    },
    {
     "name": "stderr",
     "output_type": "stream",
     "text": [
      "Train: 100%|██████████| 258/258 [00:48<00:00,  5.34it/s]\n"
     ]
    },
    {
     "name": "stdout",
     "output_type": "stream",
     "text": [
      "===Train:\t|\tAccuracy: 0.9596\t|\tLoss: 0.1396\n"
     ]
    },
    {
     "name": "stderr",
     "output_type": "stream",
     "text": [
      "Val: 100%|██████████| 2065/2065 [00:19<00:00, 107.28it/s]\n"
     ]
    },
    {
     "name": "stdout",
     "output_type": "stream",
     "text": [
      "===Valid:\t|\tAccuracy: 0.9530\t|\tLoss: 0.1546\n",
      "========================================================================================== \n",
      "\n",
      "\n",
      "\n",
      "============================== Epoch 17:\n"
     ]
    },
    {
     "name": "stderr",
     "output_type": "stream",
     "text": [
      "Train: 100%|██████████| 258/258 [00:48<00:00,  5.37it/s]\n"
     ]
    },
    {
     "name": "stdout",
     "output_type": "stream",
     "text": [
      "===Train:\t|\tAccuracy: 0.9570\t|\tLoss: 0.1405\n"
     ]
    },
    {
     "name": "stderr",
     "output_type": "stream",
     "text": [
      "Val: 100%|██████████| 2065/2065 [00:19<00:00, 107.30it/s]\n"
     ]
    },
    {
     "name": "stdout",
     "output_type": "stream",
     "text": [
      "===Valid:\t|\tAccuracy: 0.9516\t|\tLoss: 0.1547\n",
      "========================================================================================== \n",
      "\n",
      "\n",
      "\n",
      "============================== Epoch 18:\n"
     ]
    },
    {
     "name": "stderr",
     "output_type": "stream",
     "text": [
      "Train: 100%|██████████| 258/258 [00:48<00:00,  5.37it/s]\n"
     ]
    },
    {
     "name": "stdout",
     "output_type": "stream",
     "text": [
      "===Train:\t|\tAccuracy: 0.9579\t|\tLoss: 0.1358\n"
     ]
    },
    {
     "name": "stderr",
     "output_type": "stream",
     "text": [
      "Val: 100%|██████████| 2065/2065 [00:18<00:00, 109.04it/s]\n"
     ]
    },
    {
     "name": "stdout",
     "output_type": "stream",
     "text": [
      "===Valid:\t|\tAccuracy: 0.9477\t|\tLoss: 0.1595\n",
      "========================================================================================== \n",
      "\n",
      "\n",
      "\n",
      "============================== Epoch 19:\n"
     ]
    },
    {
     "name": "stderr",
     "output_type": "stream",
     "text": [
      "Train: 100%|██████████| 258/258 [00:48<00:00,  5.28it/s]\n"
     ]
    },
    {
     "name": "stdout",
     "output_type": "stream",
     "text": [
      "===Train:\t|\tAccuracy: 0.9584\t|\tLoss: 0.1352\n"
     ]
    },
    {
     "name": "stderr",
     "output_type": "stream",
     "text": [
      "Val: 100%|██████████| 2065/2065 [00:19<00:00, 108.42it/s]\n"
     ]
    },
    {
     "name": "stdout",
     "output_type": "stream",
     "text": [
      "===Valid:\t|\tAccuracy: 0.9477\t|\tLoss: 0.1544\n",
      "========================================================================================== \n",
      "\n",
      "\n",
      "\n",
      "============================== Epoch 20:\n"
     ]
    },
    {
     "name": "stderr",
     "output_type": "stream",
     "text": [
      "Train: 100%|██████████| 258/258 [00:48<00:00,  5.28it/s]\n"
     ]
    },
    {
     "name": "stdout",
     "output_type": "stream",
     "text": [
      "===Train:\t|\tAccuracy: 0.9606\t|\tLoss: 0.1286\n"
     ]
    },
    {
     "name": "stderr",
     "output_type": "stream",
     "text": [
      "Val: 100%|██████████| 2065/2065 [00:19<00:00, 106.72it/s]\n"
     ]
    },
    {
     "name": "stdout",
     "output_type": "stream",
     "text": [
      "===Valid:\t|\tAccuracy: 0.9511\t|\tLoss: 0.1513\n",
      "========================================================================================== \n",
      "\n",
      "\n",
      "\n",
      "============================== Epoch 21:\n"
     ]
    },
    {
     "name": "stderr",
     "output_type": "stream",
     "text": [
      "Train: 100%|██████████| 258/258 [00:48<00:00,  5.27it/s]\n"
     ]
    },
    {
     "name": "stdout",
     "output_type": "stream",
     "text": [
      "===Train:\t|\tAccuracy: 0.9609\t|\tLoss: 0.1282\n"
     ]
    },
    {
     "name": "stderr",
     "output_type": "stream",
     "text": [
      "Val: 100%|██████████| 2065/2065 [00:19<00:00, 108.19it/s]\n"
     ]
    },
    {
     "name": "stdout",
     "output_type": "stream",
     "text": [
      "===Valid:\t|\tAccuracy: 0.9545\t|\tLoss: 0.1508\n",
      "========================================================================================== \n",
      "\n",
      "\n",
      "\n",
      "============================== Epoch 22:\n"
     ]
    },
    {
     "name": "stderr",
     "output_type": "stream",
     "text": [
      "Train: 100%|██████████| 258/258 [00:48<00:00,  5.27it/s]\n"
     ]
    },
    {
     "name": "stdout",
     "output_type": "stream",
     "text": [
      "===Train:\t|\tAccuracy: 0.9602\t|\tLoss: 0.1240\n"
     ]
    },
    {
     "name": "stderr",
     "output_type": "stream",
     "text": [
      "Val: 100%|██████████| 2065/2065 [00:19<00:00, 107.25it/s]\n"
     ]
    },
    {
     "name": "stdout",
     "output_type": "stream",
     "text": [
      "===Valid:\t|\tAccuracy: 0.9525\t|\tLoss: 0.1460\n",
      "========================================================================================== \n",
      "\n",
      "\n",
      "\n",
      "============================== Epoch 23:\n"
     ]
    },
    {
     "name": "stderr",
     "output_type": "stream",
     "text": [
      "Train: 100%|██████████| 258/258 [00:48<00:00,  5.29it/s]\n"
     ]
    },
    {
     "name": "stdout",
     "output_type": "stream",
     "text": [
      "===Train:\t|\tAccuracy: 0.9604\t|\tLoss: 0.1230\n"
     ]
    },
    {
     "name": "stderr",
     "output_type": "stream",
     "text": [
      "Val: 100%|██████████| 2065/2065 [00:19<00:00, 108.68it/s]\n"
     ]
    },
    {
     "name": "stdout",
     "output_type": "stream",
     "text": [
      "===Valid:\t|\tAccuracy: 0.9492\t|\tLoss: 0.1525\n",
      "========================================================================================== \n",
      "\n",
      "\n",
      "\n",
      "============================== Epoch 24:\n"
     ]
    },
    {
     "name": "stderr",
     "output_type": "stream",
     "text": [
      "Train: 100%|██████████| 258/258 [00:49<00:00,  5.20it/s]\n"
     ]
    },
    {
     "name": "stdout",
     "output_type": "stream",
     "text": [
      "===Train:\t|\tAccuracy: 0.9602\t|\tLoss: 0.1205\n"
     ]
    },
    {
     "name": "stderr",
     "output_type": "stream",
     "text": [
      "Val: 100%|██████████| 2065/2065 [00:19<00:00, 107.96it/s]\n"
     ]
    },
    {
     "name": "stdout",
     "output_type": "stream",
     "text": [
      "===Valid:\t|\tAccuracy: 0.9569\t|\tLoss: 0.1472\n",
      "========================================================================================== \n",
      "\n",
      "\n",
      "\n",
      "============================== Epoch 25:\n"
     ]
    },
    {
     "name": "stderr",
     "output_type": "stream",
     "text": [
      "Train: 100%|██████████| 258/258 [00:48<00:00,  5.27it/s]\n"
     ]
    },
    {
     "name": "stdout",
     "output_type": "stream",
     "text": [
      "===Train:\t|\tAccuracy: 0.9617\t|\tLoss: 0.1226\n"
     ]
    },
    {
     "name": "stderr",
     "output_type": "stream",
     "text": [
      "Val: 100%|██████████| 2065/2065 [00:19<00:00, 107.73it/s]\n"
     ]
    },
    {
     "name": "stdout",
     "output_type": "stream",
     "text": [
      "===Valid:\t|\tAccuracy: 0.9554\t|\tLoss: 0.1452\n",
      "========================================================================================== \n",
      "\n",
      "\n",
      "\n",
      "============================== Epoch 26:\n"
     ]
    },
    {
     "name": "stderr",
     "output_type": "stream",
     "text": [
      "Train: 100%|██████████| 258/258 [00:48<00:00,  5.27it/s]\n"
     ]
    },
    {
     "name": "stdout",
     "output_type": "stream",
     "text": [
      "===Train:\t|\tAccuracy: 0.9617\t|\tLoss: 0.1202\n"
     ]
    },
    {
     "name": "stderr",
     "output_type": "stream",
     "text": [
      "Val: 100%|██████████| 2065/2065 [00:19<00:00, 108.64it/s]\n"
     ]
    },
    {
     "name": "stdout",
     "output_type": "stream",
     "text": [
      "===Valid:\t|\tAccuracy: 0.9511\t|\tLoss: 0.1476\n",
      "========================================================================================== \n",
      "\n",
      "\n",
      "\n",
      "============================== Epoch 27:\n"
     ]
    },
    {
     "name": "stderr",
     "output_type": "stream",
     "text": [
      "Train: 100%|██████████| 258/258 [00:48<00:00,  5.27it/s]\n"
     ]
    },
    {
     "name": "stdout",
     "output_type": "stream",
     "text": [
      "===Train:\t|\tAccuracy: 0.9623\t|\tLoss: 0.1174\n"
     ]
    },
    {
     "name": "stderr",
     "output_type": "stream",
     "text": [
      "Val: 100%|██████████| 2065/2065 [00:19<00:00, 104.91it/s]\n"
     ]
    },
    {
     "name": "stdout",
     "output_type": "stream",
     "text": [
      "===Valid:\t|\tAccuracy: 0.9521\t|\tLoss: 0.1428\n",
      "========================================================================================== \n",
      "\n",
      "\n",
      "\n",
      "============================== Epoch 28:\n"
     ]
    },
    {
     "name": "stderr",
     "output_type": "stream",
     "text": [
      "Train: 100%|██████████| 258/258 [00:52<00:00,  4.92it/s]\n"
     ]
    },
    {
     "name": "stdout",
     "output_type": "stream",
     "text": [
      "===Train:\t|\tAccuracy: 0.9629\t|\tLoss: 0.1134\n"
     ]
    },
    {
     "name": "stderr",
     "output_type": "stream",
     "text": [
      "Val: 100%|██████████| 2065/2065 [00:21<00:00, 95.95it/s] \n"
     ]
    },
    {
     "name": "stdout",
     "output_type": "stream",
     "text": [
      "===Valid:\t|\tAccuracy: 0.9564\t|\tLoss: 0.1467\n",
      "========================================================================================== \n",
      "\n",
      "\n",
      "\n",
      "============================== Epoch 29:\n"
     ]
    },
    {
     "name": "stderr",
     "output_type": "stream",
     "text": [
      "Train: 100%|██████████| 258/258 [00:54<00:00,  4.77it/s]\n"
     ]
    },
    {
     "name": "stdout",
     "output_type": "stream",
     "text": [
      "===Train:\t|\tAccuracy: 0.9642\t|\tLoss: 0.1110\n"
     ]
    },
    {
     "name": "stderr",
     "output_type": "stream",
     "text": [
      "Val: 100%|██████████| 2065/2065 [00:20<00:00, 98.79it/s] \n"
     ]
    },
    {
     "name": "stdout",
     "output_type": "stream",
     "text": [
      "===Valid:\t|\tAccuracy: 0.9511\t|\tLoss: 0.1444\n",
      "========================================================================================== \n",
      "\n",
      "\n",
      "\n",
      "============================== Epoch 30:\n"
     ]
    },
    {
     "name": "stderr",
     "output_type": "stream",
     "text": [
      "Train: 100%|██████████| 258/258 [00:48<00:00,  5.34it/s]\n"
     ]
    },
    {
     "name": "stdout",
     "output_type": "stream",
     "text": [
      "===Train:\t|\tAccuracy: 0.9635\t|\tLoss: 0.1092\n"
     ]
    },
    {
     "name": "stderr",
     "output_type": "stream",
     "text": [
      "Val: 100%|██████████| 2065/2065 [00:19<00:00, 106.62it/s]\n"
     ]
    },
    {
     "name": "stdout",
     "output_type": "stream",
     "text": [
      "===Valid:\t|\tAccuracy: 0.9554\t|\tLoss: 0.1454\n",
      "========================================================================================== \n",
      "\n",
      "\n",
      "\n",
      "Best checkpoinpt: 29\n",
      "Train Accuracy: 0.9642035130224107\t|\tTrain Loss: 0.11098632605995719\n",
      "Test Accuracy: 0.951089588377724\t|\tTest Loss: 0.14443045562725174\n",
      "✅ Accuracy: 0.9554 (1973/2065)\n"
     ]
    }
   ],
   "source": [
    "###\n",
    "# mobile_net solution\n",
    "\n",
    "model = None\n",
    "model = torchvision.models.mobilenet_v2(weights=\"DEFAULT\")\n",
    "# Thay classifier cuối\n",
    "in_features = model.classifier[1].in_features\n",
    "\n",
    "print(\"No of features: \", in_features)\n",
    "print(\"Num classes: \", num_classes)\n",
    "model.classifier[1] = nn.Linear(in_features, num_classes)\n",
    "model = model.to(device)\n",
    "\n",
    "for param in model.features.parameters():\n",
    "    param.requires_grad = False\n",
    "\n",
    "criterion = nn.CrossEntropyLoss()\n",
    "optimizer = optim.Adam(filter(lambda p: p.requires_grad, model.parameters()), lr=1e-3)\n",
    "\n",
    "model_name = \"mobilenetv2\"\n",
    "num_epochs = 30\n",
    "train(model_name, num_epochs)\n"
   ]
  },
  {
   "cell_type": "code",
   "execution_count": 55,
   "id": "cce5d56e",
   "metadata": {},
   "outputs": [
    {
     "name": "stdout",
     "output_type": "stream",
     "text": [
      "No of features:  1280\n",
      "Num classes:  15\n",
      "============================== Epoch 1:\n"
     ]
    },
    {
     "name": "stderr",
     "output_type": "stream",
     "text": [
      "Train: 100%|██████████| 258/258 [00:49<00:00,  5.19it/s]\n"
     ]
    },
    {
     "name": "stdout",
     "output_type": "stream",
     "text": [
      "===Train:\t|\tAccuracy: 0.7645\t|\tLoss: 1.0202\n"
     ]
    },
    {
     "name": "stderr",
     "output_type": "stream",
     "text": [
      "Val: 100%|██████████| 2065/2065 [00:20<00:00, 100.61it/s]\n"
     ]
    },
    {
     "name": "stdout",
     "output_type": "stream",
     "text": [
      "===Valid:\t|\tAccuracy: 0.8891\t|\tLoss: 0.4966\n",
      "========================================================================================== \n",
      "\n",
      "\n",
      "\n",
      "============================== Epoch 2:\n"
     ]
    },
    {
     "name": "stderr",
     "output_type": "stream",
     "text": [
      "Train: 100%|██████████| 258/258 [00:51<00:00,  5.06it/s]\n"
     ]
    },
    {
     "name": "stdout",
     "output_type": "stream",
     "text": [
      "===Train:\t|\tAccuracy: 0.8921\t|\tLoss: 0.4436\n"
     ]
    },
    {
     "name": "stderr",
     "output_type": "stream",
     "text": [
      "Val: 100%|██████████| 2065/2065 [00:21<00:00, 98.18it/s] \n"
     ]
    },
    {
     "name": "stdout",
     "output_type": "stream",
     "text": [
      "===Valid:\t|\tAccuracy: 0.9196\t|\tLoss: 0.3356\n",
      "========================================================================================== \n",
      "\n",
      "\n",
      "\n",
      "============================== Epoch 3:\n"
     ]
    },
    {
     "name": "stderr",
     "output_type": "stream",
     "text": [
      "Train: 100%|██████████| 258/258 [00:50<00:00,  5.11it/s]\n"
     ]
    },
    {
     "name": "stdout",
     "output_type": "stream",
     "text": [
      "===Train:\t|\tAccuracy: 0.9128\t|\tLoss: 0.3376\n"
     ]
    },
    {
     "name": "stderr",
     "output_type": "stream",
     "text": [
      "Val: 100%|██████████| 2065/2065 [00:19<00:00, 105.48it/s]\n"
     ]
    },
    {
     "name": "stdout",
     "output_type": "stream",
     "text": [
      "===Valid:\t|\tAccuracy: 0.9303\t|\tLoss: 0.2710\n",
      "========================================================================================== \n",
      "\n",
      "\n",
      "\n",
      "============================== Epoch 4:\n"
     ]
    },
    {
     "name": "stderr",
     "output_type": "stream",
     "text": [
      "Train: 100%|██████████| 258/258 [00:47<00:00,  5.38it/s]\n"
     ]
    },
    {
     "name": "stdout",
     "output_type": "stream",
     "text": [
      "===Train:\t|\tAccuracy: 0.9217\t|\tLoss: 0.2862\n"
     ]
    },
    {
     "name": "stderr",
     "output_type": "stream",
     "text": [
      "Val: 100%|██████████| 2065/2065 [00:19<00:00, 106.02it/s]\n"
     ]
    },
    {
     "name": "stdout",
     "output_type": "stream",
     "text": [
      "===Valid:\t|\tAccuracy: 0.9312\t|\tLoss: 0.2390\n",
      "========================================================================================== \n",
      "\n",
      "\n",
      "\n",
      "============================== Epoch 5:\n"
     ]
    },
    {
     "name": "stderr",
     "output_type": "stream",
     "text": [
      "Train: 100%|██████████| 258/258 [00:49<00:00,  5.18it/s]\n"
     ]
    },
    {
     "name": "stdout",
     "output_type": "stream",
     "text": [
      "===Train:\t|\tAccuracy: 0.9298\t|\tLoss: 0.2520\n"
     ]
    },
    {
     "name": "stderr",
     "output_type": "stream",
     "text": [
      "Val: 100%|██████████| 2065/2065 [00:20<00:00, 100.49it/s]\n"
     ]
    },
    {
     "name": "stdout",
     "output_type": "stream",
     "text": [
      "===Valid:\t|\tAccuracy: 0.9414\t|\tLoss: 0.2160\n",
      "========================================================================================== \n",
      "\n",
      "\n",
      "\n",
      "============================== Epoch 6:\n"
     ]
    },
    {
     "name": "stderr",
     "output_type": "stream",
     "text": [
      "Train: 100%|██████████| 258/258 [00:49<00:00,  5.23it/s]\n"
     ]
    },
    {
     "name": "stdout",
     "output_type": "stream",
     "text": [
      "===Train:\t|\tAccuracy: 0.9399\t|\tLoss: 0.2257\n"
     ]
    },
    {
     "name": "stderr",
     "output_type": "stream",
     "text": [
      "Val: 100%|██████████| 2065/2065 [00:20<00:00, 100.38it/s]\n"
     ]
    },
    {
     "name": "stdout",
     "output_type": "stream",
     "text": [
      "===Valid:\t|\tAccuracy: 0.9366\t|\tLoss: 0.2122\n",
      "========================================================================================== \n",
      "\n",
      "\n",
      "\n",
      "============================== Epoch 7:\n"
     ]
    },
    {
     "name": "stderr",
     "output_type": "stream",
     "text": [
      "Train: 100%|██████████| 258/258 [00:50<00:00,  5.13it/s]\n"
     ]
    },
    {
     "name": "stdout",
     "output_type": "stream",
     "text": [
      "===Train:\t|\tAccuracy: 0.9402\t|\tLoss: 0.2109\n"
     ]
    },
    {
     "name": "stderr",
     "output_type": "stream",
     "text": [
      "Val: 100%|██████████| 2065/2065 [00:20<00:00, 101.44it/s]\n"
     ]
    },
    {
     "name": "stdout",
     "output_type": "stream",
     "text": [
      "===Valid:\t|\tAccuracy: 0.9453\t|\tLoss: 0.1934\n",
      "========================================================================================== \n",
      "\n",
      "\n",
      "\n",
      "============================== Epoch 8:\n"
     ]
    },
    {
     "name": "stderr",
     "output_type": "stream",
     "text": [
      "Train: 100%|██████████| 258/258 [00:51<00:00,  4.97it/s]\n"
     ]
    },
    {
     "name": "stdout",
     "output_type": "stream",
     "text": [
      "===Train:\t|\tAccuracy: 0.9416\t|\tLoss: 0.1995\n"
     ]
    },
    {
     "name": "stderr",
     "output_type": "stream",
     "text": [
      "Val: 100%|██████████| 2065/2065 [00:19<00:00, 104.03it/s]\n"
     ]
    },
    {
     "name": "stdout",
     "output_type": "stream",
     "text": [
      "===Valid:\t|\tAccuracy: 0.9506\t|\tLoss: 0.1814\n",
      "========================================================================================== \n",
      "\n",
      "\n",
      "\n",
      "============================== Epoch 9:\n"
     ]
    },
    {
     "name": "stderr",
     "output_type": "stream",
     "text": [
      "Train: 100%|██████████| 258/258 [00:51<00:00,  4.98it/s]\n"
     ]
    },
    {
     "name": "stdout",
     "output_type": "stream",
     "text": [
      "===Train:\t|\tAccuracy: 0.9482\t|\tLoss: 0.1839\n"
     ]
    },
    {
     "name": "stderr",
     "output_type": "stream",
     "text": [
      "Val: 100%|██████████| 2065/2065 [00:21<00:00, 96.41it/s] \n"
     ]
    },
    {
     "name": "stdout",
     "output_type": "stream",
     "text": [
      "===Valid:\t|\tAccuracy: 0.9472\t|\tLoss: 0.1816\n",
      "========================================================================================== \n",
      "\n",
      "\n",
      "\n",
      "============================== Epoch 10:\n"
     ]
    },
    {
     "name": "stderr",
     "output_type": "stream",
     "text": [
      "Train: 100%|██████████| 258/258 [00:49<00:00,  5.22it/s]\n"
     ]
    },
    {
     "name": "stdout",
     "output_type": "stream",
     "text": [
      "===Train:\t|\tAccuracy: 0.9486\t|\tLoss: 0.1762\n"
     ]
    },
    {
     "name": "stderr",
     "output_type": "stream",
     "text": [
      "Val: 100%|██████████| 2065/2065 [00:19<00:00, 106.42it/s]\n"
     ]
    },
    {
     "name": "stdout",
     "output_type": "stream",
     "text": [
      "===Valid:\t|\tAccuracy: 0.9453\t|\tLoss: 0.1765\n",
      "========================================================================================== \n",
      "\n",
      "\n",
      "\n",
      "============================== Epoch 11:\n"
     ]
    },
    {
     "name": "stderr",
     "output_type": "stream",
     "text": [
      "Train: 100%|██████████| 258/258 [00:49<00:00,  5.19it/s]\n"
     ]
    },
    {
     "name": "stdout",
     "output_type": "stream",
     "text": [
      "===Train:\t|\tAccuracy: 0.9490\t|\tLoss: 0.1706\n"
     ]
    },
    {
     "name": "stderr",
     "output_type": "stream",
     "text": [
      "Val: 100%|██████████| 2065/2065 [00:19<00:00, 103.47it/s]\n"
     ]
    },
    {
     "name": "stdout",
     "output_type": "stream",
     "text": [
      "===Valid:\t|\tAccuracy: 0.9496\t|\tLoss: 0.1673\n",
      "========================================================================================== \n",
      "\n",
      "\n",
      "\n",
      "============================== Epoch 12:\n"
     ]
    },
    {
     "name": "stderr",
     "output_type": "stream",
     "text": [
      "Train: 100%|██████████| 258/258 [00:49<00:00,  5.19it/s]\n"
     ]
    },
    {
     "name": "stdout",
     "output_type": "stream",
     "text": [
      "===Train:\t|\tAccuracy: 0.9531\t|\tLoss: 0.1624\n"
     ]
    },
    {
     "name": "stderr",
     "output_type": "stream",
     "text": [
      "Val: 100%|██████████| 2065/2065 [00:19<00:00, 105.80it/s]\n"
     ]
    },
    {
     "name": "stdout",
     "output_type": "stream",
     "text": [
      "===Valid:\t|\tAccuracy: 0.9487\t|\tLoss: 0.1640\n",
      "========================================================================================== \n",
      "\n",
      "\n",
      "\n",
      "============================== Epoch 13:\n"
     ]
    },
    {
     "name": "stderr",
     "output_type": "stream",
     "text": [
      "Train: 100%|██████████| 258/258 [00:49<00:00,  5.19it/s]\n"
     ]
    },
    {
     "name": "stdout",
     "output_type": "stream",
     "text": [
      "===Train:\t|\tAccuracy: 0.9555\t|\tLoss: 0.1562\n"
     ]
    },
    {
     "name": "stderr",
     "output_type": "stream",
     "text": [
      "Val: 100%|██████████| 2065/2065 [00:19<00:00, 103.43it/s]\n"
     ]
    },
    {
     "name": "stdout",
     "output_type": "stream",
     "text": [
      "===Valid:\t|\tAccuracy: 0.9487\t|\tLoss: 0.1667\n",
      "========================================================================================== \n",
      "\n",
      "\n",
      "\n",
      "============================== Epoch 14:\n"
     ]
    },
    {
     "name": "stderr",
     "output_type": "stream",
     "text": [
      "Train: 100%|██████████| 258/258 [00:49<00:00,  5.18it/s]\n"
     ]
    },
    {
     "name": "stdout",
     "output_type": "stream",
     "text": [
      "===Train:\t|\tAccuracy: 0.9560\t|\tLoss: 0.1468\n"
     ]
    },
    {
     "name": "stderr",
     "output_type": "stream",
     "text": [
      "Val: 100%|██████████| 2065/2065 [00:20<00:00, 102.25it/s]\n"
     ]
    },
    {
     "name": "stdout",
     "output_type": "stream",
     "text": [
      "===Valid:\t|\tAccuracy: 0.9501\t|\tLoss: 0.1626\n",
      "========================================================================================== \n",
      "\n",
      "\n",
      "\n",
      "============================== Epoch 15:\n"
     ]
    },
    {
     "name": "stderr",
     "output_type": "stream",
     "text": [
      "Train: 100%|██████████| 258/258 [00:50<00:00,  5.15it/s]\n"
     ]
    },
    {
     "name": "stdout",
     "output_type": "stream",
     "text": [
      "===Train:\t|\tAccuracy: 0.9535\t|\tLoss: 0.1489\n"
     ]
    },
    {
     "name": "stderr",
     "output_type": "stream",
     "text": [
      "Val: 100%|██████████| 2065/2065 [00:19<00:00, 104.62it/s]\n"
     ]
    },
    {
     "name": "stdout",
     "output_type": "stream",
     "text": [
      "===Valid:\t|\tAccuracy: 0.9482\t|\tLoss: 0.1636\n",
      "========================================================================================== \n",
      "\n",
      "\n",
      "\n",
      "============================== Epoch 16:\n"
     ]
    },
    {
     "name": "stderr",
     "output_type": "stream",
     "text": [
      "Train: 100%|██████████| 258/258 [00:49<00:00,  5.23it/s]\n"
     ]
    },
    {
     "name": "stdout",
     "output_type": "stream",
     "text": [
      "===Train:\t|\tAccuracy: 0.9558\t|\tLoss: 0.1452\n"
     ]
    },
    {
     "name": "stderr",
     "output_type": "stream",
     "text": [
      "Val: 100%|██████████| 2065/2065 [00:19<00:00, 106.59it/s]\n"
     ]
    },
    {
     "name": "stdout",
     "output_type": "stream",
     "text": [
      "===Valid:\t|\tAccuracy: 0.9496\t|\tLoss: 0.1578\n",
      "========================================================================================== \n",
      "\n",
      "\n",
      "\n",
      "============================== Epoch 17:\n"
     ]
    },
    {
     "name": "stderr",
     "output_type": "stream",
     "text": [
      "Train: 100%|██████████| 258/258 [00:48<00:00,  5.30it/s]\n"
     ]
    },
    {
     "name": "stdout",
     "output_type": "stream",
     "text": [
      "===Train:\t|\tAccuracy: 0.9547\t|\tLoss: 0.1408\n"
     ]
    },
    {
     "name": "stderr",
     "output_type": "stream",
     "text": [
      "Val: 100%|██████████| 2065/2065 [00:19<00:00, 105.38it/s]\n"
     ]
    },
    {
     "name": "stdout",
     "output_type": "stream",
     "text": [
      "===Valid:\t|\tAccuracy: 0.9535\t|\tLoss: 0.1556\n",
      "========================================================================================== \n",
      "\n",
      "\n",
      "\n",
      "============================== Epoch 18:\n"
     ]
    },
    {
     "name": "stderr",
     "output_type": "stream",
     "text": [
      "Train: 100%|██████████| 258/258 [00:49<00:00,  5.20it/s]\n"
     ]
    },
    {
     "name": "stdout",
     "output_type": "stream",
     "text": [
      "===Train:\t|\tAccuracy: 0.9588\t|\tLoss: 0.1364\n"
     ]
    },
    {
     "name": "stderr",
     "output_type": "stream",
     "text": [
      "Val: 100%|██████████| 2065/2065 [00:20<00:00, 98.59it/s] \n"
     ]
    },
    {
     "name": "stdout",
     "output_type": "stream",
     "text": [
      "===Valid:\t|\tAccuracy: 0.9511\t|\tLoss: 0.1553\n",
      "========================================================================================== \n",
      "\n",
      "\n",
      "\n",
      "============================== Epoch 19:\n"
     ]
    },
    {
     "name": "stderr",
     "output_type": "stream",
     "text": [
      "Train: 100%|██████████| 258/258 [00:51<00:00,  5.02it/s]\n"
     ]
    },
    {
     "name": "stdout",
     "output_type": "stream",
     "text": [
      "===Train:\t|\tAccuracy: 0.9600\t|\tLoss: 0.1303\n"
     ]
    },
    {
     "name": "stderr",
     "output_type": "stream",
     "text": [
      "Val: 100%|██████████| 2065/2065 [00:19<00:00, 107.43it/s]\n"
     ]
    },
    {
     "name": "stdout",
     "output_type": "stream",
     "text": [
      "===Valid:\t|\tAccuracy: 0.9545\t|\tLoss: 0.1540\n",
      "========================================================================================== \n",
      "\n",
      "\n",
      "\n",
      "============================== Epoch 20:\n"
     ]
    },
    {
     "name": "stderr",
     "output_type": "stream",
     "text": [
      "Train: 100%|██████████| 258/258 [00:49<00:00,  5.25it/s]\n"
     ]
    },
    {
     "name": "stdout",
     "output_type": "stream",
     "text": [
      "===Train:\t|\tAccuracy: 0.9632\t|\tLoss: 0.1256\n"
     ]
    },
    {
     "name": "stderr",
     "output_type": "stream",
     "text": [
      "Val: 100%|██████████| 2065/2065 [00:19<00:00, 106.45it/s]\n"
     ]
    },
    {
     "name": "stdout",
     "output_type": "stream",
     "text": [
      "===Valid:\t|\tAccuracy: 0.9525\t|\tLoss: 0.1496\n",
      "========================================================================================== \n",
      "\n",
      "\n",
      "\n",
      "============================== Epoch 21:\n"
     ]
    },
    {
     "name": "stderr",
     "output_type": "stream",
     "text": [
      "Train: 100%|██████████| 258/258 [00:53<00:00,  4.84it/s]\n"
     ]
    },
    {
     "name": "stdout",
     "output_type": "stream",
     "text": [
      "===Train:\t|\tAccuracy: 0.9606\t|\tLoss: 0.1268\n"
     ]
    },
    {
     "name": "stderr",
     "output_type": "stream",
     "text": [
      "Val: 100%|██████████| 2065/2065 [00:19<00:00, 106.00it/s]\n"
     ]
    },
    {
     "name": "stdout",
     "output_type": "stream",
     "text": [
      "===Valid:\t|\tAccuracy: 0.9569\t|\tLoss: 0.1445\n",
      "========================================================================================== \n",
      "\n",
      "\n",
      "\n",
      "============================== Epoch 22:\n"
     ]
    },
    {
     "name": "stderr",
     "output_type": "stream",
     "text": [
      "Train: 100%|██████████| 258/258 [00:49<00:00,  5.20it/s]\n"
     ]
    },
    {
     "name": "stdout",
     "output_type": "stream",
     "text": [
      "===Train:\t|\tAccuracy: 0.9577\t|\tLoss: 0.1271\n"
     ]
    },
    {
     "name": "stderr",
     "output_type": "stream",
     "text": [
      "Val: 100%|██████████| 2065/2065 [00:19<00:00, 103.82it/s]\n"
     ]
    },
    {
     "name": "stdout",
     "output_type": "stream",
     "text": [
      "===Valid:\t|\tAccuracy: 0.9496\t|\tLoss: 0.1490\n",
      "========================================================================================== \n",
      "\n",
      "\n",
      "\n",
      "============================== Epoch 23:\n"
     ]
    },
    {
     "name": "stderr",
     "output_type": "stream",
     "text": [
      "Train: 100%|██████████| 258/258 [00:51<00:00,  5.00it/s]\n"
     ]
    },
    {
     "name": "stdout",
     "output_type": "stream",
     "text": [
      "===Train:\t|\tAccuracy: 0.9612\t|\tLoss: 0.1224\n"
     ]
    },
    {
     "name": "stderr",
     "output_type": "stream",
     "text": [
      "Val: 100%|██████████| 2065/2065 [00:20<00:00, 99.59it/s] \n"
     ]
    },
    {
     "name": "stdout",
     "output_type": "stream",
     "text": [
      "===Valid:\t|\tAccuracy: 0.9554\t|\tLoss: 0.1482\n",
      "========================================================================================== \n",
      "\n",
      "\n",
      "\n",
      "============================== Epoch 24:\n"
     ]
    },
    {
     "name": "stderr",
     "output_type": "stream",
     "text": [
      "Train: 100%|██████████| 258/258 [00:49<00:00,  5.25it/s]\n"
     ]
    },
    {
     "name": "stdout",
     "output_type": "stream",
     "text": [
      "===Train:\t|\tAccuracy: 0.9598\t|\tLoss: 0.1244\n"
     ]
    },
    {
     "name": "stderr",
     "output_type": "stream",
     "text": [
      "Val: 100%|██████████| 2065/2065 [00:19<00:00, 105.37it/s]\n"
     ]
    },
    {
     "name": "stdout",
     "output_type": "stream",
     "text": [
      "===Valid:\t|\tAccuracy: 0.9516\t|\tLoss: 0.1495\n",
      "========================================================================================== \n",
      "\n",
      "\n",
      "\n",
      "============================== Epoch 25:\n"
     ]
    },
    {
     "name": "stderr",
     "output_type": "stream",
     "text": [
      "Train: 100%|██████████| 258/258 [00:48<00:00,  5.29it/s]\n"
     ]
    },
    {
     "name": "stdout",
     "output_type": "stream",
     "text": [
      "===Train:\t|\tAccuracy: 0.9618\t|\tLoss: 0.1199\n"
     ]
    },
    {
     "name": "stderr",
     "output_type": "stream",
     "text": [
      "Val: 100%|██████████| 2065/2065 [00:19<00:00, 103.60it/s]\n"
     ]
    },
    {
     "name": "stdout",
     "output_type": "stream",
     "text": [
      "===Valid:\t|\tAccuracy: 0.9579\t|\tLoss: 0.1401\n",
      "========================================================================================== \n",
      "\n",
      "\n",
      "\n",
      "============================== Epoch 26:\n"
     ]
    },
    {
     "name": "stderr",
     "output_type": "stream",
     "text": [
      "Train: 100%|██████████| 258/258 [00:49<00:00,  5.20it/s]\n"
     ]
    },
    {
     "name": "stdout",
     "output_type": "stream",
     "text": [
      "===Train:\t|\tAccuracy: 0.9638\t|\tLoss: 0.1176\n"
     ]
    },
    {
     "name": "stderr",
     "output_type": "stream",
     "text": [
      "Val: 100%|██████████| 2065/2065 [00:20<00:00, 102.23it/s]\n"
     ]
    },
    {
     "name": "stdout",
     "output_type": "stream",
     "text": [
      "===Valid:\t|\tAccuracy: 0.9559\t|\tLoss: 0.1466\n",
      "========================================================================================== \n",
      "\n",
      "\n",
      "\n",
      "============================== Epoch 27:\n"
     ]
    },
    {
     "name": "stderr",
     "output_type": "stream",
     "text": [
      "Train: 100%|██████████| 258/258 [00:51<00:00,  5.00it/s]\n"
     ]
    },
    {
     "name": "stdout",
     "output_type": "stream",
     "text": [
      "===Train:\t|\tAccuracy: 0.9615\t|\tLoss: 0.1174\n"
     ]
    },
    {
     "name": "stderr",
     "output_type": "stream",
     "text": [
      "Val: 100%|██████████| 2065/2065 [00:19<00:00, 107.10it/s]\n"
     ]
    },
    {
     "name": "stdout",
     "output_type": "stream",
     "text": [
      "===Valid:\t|\tAccuracy: 0.9540\t|\tLoss: 0.1435\n",
      "========================================================================================== \n",
      "\n",
      "\n",
      "\n",
      "============================== Epoch 28:\n"
     ]
    },
    {
     "name": "stderr",
     "output_type": "stream",
     "text": [
      "Train: 100%|██████████| 258/258 [00:49<00:00,  5.25it/s]\n"
     ]
    },
    {
     "name": "stdout",
     "output_type": "stream",
     "text": [
      "===Train:\t|\tAccuracy: 0.9651\t|\tLoss: 0.1121\n"
     ]
    },
    {
     "name": "stderr",
     "output_type": "stream",
     "text": [
      "Val: 100%|██████████| 2065/2065 [00:20<00:00, 99.43it/s] \n"
     ]
    },
    {
     "name": "stdout",
     "output_type": "stream",
     "text": [
      "===Valid:\t|\tAccuracy: 0.9559\t|\tLoss: 0.1413\n",
      "========================================================================================== \n",
      "\n",
      "\n",
      "\n",
      "============================== Epoch 29:\n"
     ]
    },
    {
     "name": "stderr",
     "output_type": "stream",
     "text": [
      "Train: 100%|██████████| 258/258 [00:49<00:00,  5.18it/s]\n"
     ]
    },
    {
     "name": "stdout",
     "output_type": "stream",
     "text": [
      "===Train:\t|\tAccuracy: 0.9624\t|\tLoss: 0.1144\n"
     ]
    },
    {
     "name": "stderr",
     "output_type": "stream",
     "text": [
      "Val: 100%|██████████| 2065/2065 [00:19<00:00, 104.25it/s]\n"
     ]
    },
    {
     "name": "stdout",
     "output_type": "stream",
     "text": [
      "===Valid:\t|\tAccuracy: 0.9530\t|\tLoss: 0.1444\n",
      "========================================================================================== \n",
      "\n",
      "\n",
      "\n",
      "============================== Epoch 30:\n"
     ]
    },
    {
     "name": "stderr",
     "output_type": "stream",
     "text": [
      "Train: 100%|██████████| 258/258 [00:48<00:00,  5.35it/s]\n"
     ]
    },
    {
     "name": "stdout",
     "output_type": "stream",
     "text": [
      "===Train:\t|\tAccuracy: 0.9644\t|\tLoss: 0.1095\n"
     ]
    },
    {
     "name": "stderr",
     "output_type": "stream",
     "text": [
      "Val: 100%|██████████| 2065/2065 [00:19<00:00, 106.27it/s]\n"
     ]
    },
    {
     "name": "stdout",
     "output_type": "stream",
     "text": [
      "===Valid:\t|\tAccuracy: 0.9516\t|\tLoss: 0.1448\n",
      "========================================================================================== \n",
      "\n",
      "\n",
      "\n",
      "Best checkpoinpt: 28\n",
      "Train Accuracy: 0.9650514839491218\t|\tTrain Loss: 0.1120552503362271\n",
      "Test Accuracy: 0.9559322033898305\t|\tTest Loss: 0.14128021332451254\n",
      "✅ Accuracy: 0.9516 (1965/2065)\n"
     ]
    }
   ],
   "source": [
    "###\n",
    "# mobile_net solution\n",
    "\n",
    "model = None\n",
    "model = torchvision.models.mobilenet_v2(weights=\"DEFAULT\")\n",
    "# Thay classifier cuối\n",
    "in_features = model.classifier[1].in_features\n",
    "\n",
    "print(\"No of features: \", in_features)\n",
    "print(\"Num classes: \", num_classes)\n",
    "model.classifier[1] = nn.Linear(in_features, num_classes)\n",
    "model = model.to(device)\n",
    "\n",
    "for param in model.features.parameters():\n",
    "    param.requires_grad = False\n",
    "\n",
    "criterion = nn.CrossEntropyLoss()\n",
    "optimizer = optim.Adam(filter(lambda p: p.requires_grad, model.parameters()), lr=1e-3)\n",
    "\n",
    "# model_name = \"mobilenetv3\"\n",
    "import torchvision.models as models\n",
    "model_name = models.mobilenet_v3_large(pretrained=True)\n",
    "\n",
    "num_epochs = 30\n",
    "train(model_name, num_epochs)\n"
   ]
  },
  {
   "cell_type": "code",
   "execution_count": null,
   "id": "036e5f7b",
   "metadata": {},
   "outputs": [
    {
     "ename": "AttributeError",
     "evalue": "'Hardswish' object has no attribute 'in_features'",
     "output_type": "error",
     "traceback": [
      "\u001b[31m---------------------------------------------------------------------------\u001b[39m",
      "\u001b[31mAttributeError\u001b[39m                            Traceback (most recent call last)",
      "\u001b[36mCell\u001b[39m\u001b[36m \u001b[39m\u001b[32mIn[17]\u001b[39m\u001b[32m, line 7\u001b[39m\n\u001b[32m      5\u001b[39m model =  models.mobilenet_v3_large(pretrained=\u001b[38;5;28;01mTrue\u001b[39;00m)\n\u001b[32m      6\u001b[39m \u001b[38;5;66;03m# Thay classifier cuối\u001b[39;00m\n\u001b[32m----> \u001b[39m\u001b[32m7\u001b[39m in_features = \u001b[43mmodel\u001b[49m\u001b[43m.\u001b[49m\u001b[43mclassifier\u001b[49m\u001b[43m[\u001b[49m\u001b[32;43m1\u001b[39;49m\u001b[43m]\u001b[49m\u001b[43m.\u001b[49m\u001b[43min_features\u001b[49m\n\u001b[32m      9\u001b[39m \u001b[38;5;28mprint\u001b[39m(\u001b[33m\"\u001b[39m\u001b[33mNo of features: \u001b[39m\u001b[33m\"\u001b[39m, in_features)\n\u001b[32m     10\u001b[39m \u001b[38;5;28mprint\u001b[39m(\u001b[33m\"\u001b[39m\u001b[33mNum classes: \u001b[39m\u001b[33m\"\u001b[39m, num_classes)\n",
      "\u001b[36mFile \u001b[39m\u001b[32m~/Desktop/1mg/repos/thesis/.venv/lib/python3.13/site-packages/torch/nn/modules/module.py:1940\u001b[39m, in \u001b[36mModule.__getattr__\u001b[39m\u001b[34m(self, name)\u001b[39m\n\u001b[32m   1938\u001b[39m     \u001b[38;5;28;01mif\u001b[39;00m name \u001b[38;5;129;01min\u001b[39;00m modules:\n\u001b[32m   1939\u001b[39m         \u001b[38;5;28;01mreturn\u001b[39;00m modules[name]\n\u001b[32m-> \u001b[39m\u001b[32m1940\u001b[39m \u001b[38;5;28;01mraise\u001b[39;00m \u001b[38;5;167;01mAttributeError\u001b[39;00m(\n\u001b[32m   1941\u001b[39m     \u001b[33mf\u001b[39m\u001b[33m\"\u001b[39m\u001b[33m'\u001b[39m\u001b[38;5;132;01m{\u001b[39;00m\u001b[38;5;28mtype\u001b[39m(\u001b[38;5;28mself\u001b[39m).\u001b[34m__name__\u001b[39m\u001b[38;5;132;01m}\u001b[39;00m\u001b[33m'\u001b[39m\u001b[33m object has no attribute \u001b[39m\u001b[33m'\u001b[39m\u001b[38;5;132;01m{\u001b[39;00mname\u001b[38;5;132;01m}\u001b[39;00m\u001b[33m'\u001b[39m\u001b[33m\"\u001b[39m\n\u001b[32m   1942\u001b[39m )\n",
      "\u001b[31mAttributeError\u001b[39m: 'Hardswish' object has no attribute 'in_features'"
     ]
    }
   ],
   "source": [
    "###\n",
    "# mobile_net solution\n",
    "model =  models.mobilenet_v3_large(pretrained=True)\n",
    "# Thay classifier cuối\n",
    "in_features = model.classifier[1].in_features\n",
    "\n",
    "print(\"No of features: \", in_features)\n",
    "print(\"Num classes: \", num_classes)\n",
    "model.classifier[1] = nn.Linear(in_features, num_classes)\n",
    "model = model.to(device)\n",
    "\n",
    "for param in model.features.parameters():\n",
    "    param.requires_grad = False\n",
    "\n",
    "\n",
    "num_epochs = 30\n",
    "train(model_name, num_epochs, model, train_data, train_loader, test_data, test_loader, criterion, optimizer, device)"
   ]
  }
 ],
 "metadata": {
  "kernelspec": {
   "display_name": ".venv",
   "language": "python",
   "name": "python3"
  },
  "language_info": {
   "codemirror_mode": {
    "name": "ipython",
    "version": 3
   },
   "file_extension": ".py",
   "mimetype": "text/x-python",
   "name": "python",
   "nbconvert_exporter": "python",
   "pygments_lexer": "ipython3",
   "version": "3.13.3"
  }
 },
 "nbformat": 4,
 "nbformat_minor": 5
}
