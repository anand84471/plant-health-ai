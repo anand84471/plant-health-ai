{
 "cells": [
  {
   "cell_type": "code",
   "execution_count": 1,
   "id": "90297e02",
   "metadata": {},
   "outputs": [],
   "source": [
    "import torch\n",
    "import torch.nn as nn\n",
    "from torchvision import datasets, transforms\n",
    "from torch.utils.data import DataLoader, random_split\n",
    "from torchvision import transforms\n",
    "from thesis.utils.pytorch import train"
   ]
  },
  {
   "cell_type": "code",
   "execution_count": 3,
   "id": "d1eccce7",
   "metadata": {},
   "outputs": [
    {
     "name": "stdout",
     "output_type": "stream",
     "text": [
      "Total size: 55448\n",
      "Train size: 44358\n",
      "Val size: 5544\n",
      "Test size: 5546\n"
     ]
    }
   ],
   "source": [
    "# Define data transforms\n",
    "# MobileNetV2 expects 224x224 input images and specific normalization\n",
    "data_transforms = {\n",
    "    'train': transforms.Compose([\n",
    "        transforms.Resize(256),\n",
    "        transforms.RandomResizedCrop(224),          # phóng to rồi crop ngẫu nhiên vùng 224x224\n",
    "        transforms.RandomHorizontalFlip(p=0.5),     # lật ngang ảnh ngẫu nhiên\n",
    "        transforms.ColorJitter(brightness=0.2, contrast=0.2, saturation=0.2, hue=0.1),  # thay đổi màu sắc\n",
    "        transforms.RandomRotation(degrees=15),      # xoay ngẫu nhiên ±15 độ\n",
    "        transforms.RandomAffine(degrees=0, translate=(0.1, 0.1)),  # dịch ảnh\n",
    "        transforms.RandomPerspective(distortion_scale=0.2, p=0.5), # hiệu ứng phối cảnh\n",
    "        transforms.ToTensor(),                      # chuyển thành tensor\n",
    "        transforms.Normalize([0.485, 0.456, 0.406], [0.229, 0.224, 0.225])\n",
    "    ]),\n",
    "    'val': transforms.Compose([\n",
    "        transforms.Resize(256),\n",
    "        transforms.CenterCrop(224),\n",
    "        transforms.ToTensor(),\n",
    "        transforms.Normalize([0.485, 0.456, 0.406], [0.229, 0.224, 0.225])\n",
    "    ]),\n",
    "    'test': transforms.Compose([ # Often same as validation for consistent evaluation\n",
    "        transforms.Resize(256),\n",
    "        transforms.CenterCrop(224),\n",
    "        transforms.ToTensor(),\n",
    "        transforms.Normalize([0.485, 0.456, 0.406], [0.229, 0.224, 0.225])\n",
    "    ]),\n",
    "}\n",
    "\n",
    "\n",
    "# base_dir = \"/Users/anand/Desktop/1mg/repos/thesis/thesis/data/PlantDoc-Dataset\"\n",
    "base_dir = \"/Users/anand/Desktop/temp/Data for Identification of Plant Leaf Diseases Using a 9-layer Deep Convolutional Neural Network/Plant_leave_diseases_dataset_without_augmentation\"\n",
    "base_dataset = datasets.ImageFolder(base_dir)\n",
    "\n",
    "total_size = len(base_dataset)\n",
    "print('Total size:', total_size)\n",
    "train_size = int(0.8 * total_size)\n",
    "val_size = int(0.1 * total_size)\n",
    "test_size = total_size - train_size - val_size\n",
    "\n",
    "print('Train size:', train_size)\n",
    "print('Val size:', val_size)\n",
    "print('Test size:', test_size)\n",
    "\n",
    "train_data, val_data, test_data = random_split(\n",
    "    base_dataset, [train_size, val_size, test_size],\n",
    "    generator=torch.Generator().manual_seed(42)\n",
    ")\n",
    "\n",
    "train_data.dataset.transform = data_transforms[\"train\"]\n",
    "val_data.dataset.transform = data_transforms[\"val\"]\n",
    "test_data.dataset.transform = data_transforms[\"test\"]\n",
    "\n",
    "batch_size = 64\n",
    "train_loader = DataLoader(train_data, batch_size=batch_size, shuffle=True, pin_memory=True)\n",
    "val_loader = DataLoader(val_data, batch_size=batch_size, shuffle=True, pin_memory=True)\n",
    "test_loader = DataLoader(test_data, shuffle=True, pin_memory=True)\n"
   ]
  },
  {
   "cell_type": "code",
   "execution_count": 4,
   "id": "dd2cb4af",
   "metadata": {},
   "outputs": [],
   "source": [
    "from collections import Counter\n",
    "\n",
    "# These give you the label for each sample in the subset\n",
    "train_labels = [label for _, label in train_data]\n",
    "val_labels = [label for _, label in val_data]\n",
    "test_labels = [label for _, label in test_data]\n",
    "\n",
    "train_counters = Counter(train_labels)\n",
    "val_counters =  Counter(val_labels)\n",
    "test_counters = Counter(test_labels)"
   ]
  },
  {
   "cell_type": "code",
   "execution_count": 5,
   "id": "626c797b",
   "metadata": {},
   "outputs": [
    {
     "name": "stdout",
     "output_type": "stream",
     "text": [
      "[0, 1, 2, 3, 4, 5, 6, 7, 8, 9, 10, 11, 12, 13, 14, 15, 16, 17, 18, 19, 20, 21, 22, 23, 24, 25, 26, 27, 28, 29, 30, 31, 32, 33, 34, 35, 36, 37, 38]\n",
      "[0, 1, 2, 3, 4, 5, 6, 7, 8, 9, 10, 11, 12, 13, 14, 15, 16, 17, 18, 19, 20, 21, 22, 23, 24, 25, 26, 27, 28, 29, 30, 31, 32, 33, 34, 35, 36, 37, 38]\n",
      "[0, 1, 2, 3, 4, 5, 6, 7, 8, 9, 10, 11, 12, 13, 14, 15, 16, 17, 18, 19, 20, 21, 22, 23, 24, 25, 26, 27, 28, 29, 30, 31, 32, 33, 34, 35, 36, 37, 38]\n"
     ]
    }
   ],
   "source": [
    "x = list(train_counters.keys())\n",
    "x.sort()\n",
    "print(x)\n",
    "\n",
    "y = list(val_counters.keys())\n",
    "y.sort()\n",
    "print(y)\n",
    "\n",
    "z = list(test_counters.keys())\n",
    "z.sort()\n",
    "print(z)\n"
   ]
  },
  {
   "cell_type": "code",
   "execution_count": 6,
   "id": "04ef627a",
   "metadata": {},
   "outputs": [
    {
     "name": "stdout",
     "output_type": "stream",
     "text": [
      "Using device: mps\n"
     ]
    }
   ],
   "source": [
    "# device = torch.device(\"mps\" if torch.mps.is_available() else \"cpu\")\n",
    "device = torch.device(\"cuda\" if torch.cuda.is_available() else \"mps\")\n",
    "print(\"Using device:\", device)"
   ]
  },
  {
   "cell_type": "code",
   "execution_count": null,
   "id": "dedd1aac",
   "metadata": {},
   "outputs": [
    {
     "name": "stdout",
     "output_type": "stream",
     "text": [
      "Available quantization engines: ['qnnpack', 'none']\n",
      "Using quantization engine: qnnpack\n"
     ]
    }
   ],
   "source": [
    "\"\"\"Quantisation step\"\"\"\n",
    "\n",
    "import torch\n",
    "import torchvision.models\n",
    "\n",
    "# Check what backends are available\n",
    "print(\"Available quantization engines:\", torch.backends.quantized.supported_engines)\n",
    "\n",
    "# Use the first available backend\n",
    "if torch.backends.quantized.supported_engines:\n",
    "    torch.backends.quantized.engine = torch.backends.quantized.supported_engines[0]\n",
    "    print(f\"Using quantization engine: {torch.backends.quantized.engine}\")\n",
    "else:\n",
    "    print(\"No quantization engines available\")\n",
    "\n",
    "model = torchvision.models.mobilenet_v3_large(weights=\"DEFAULT\")\n",
    "model = model.to(\"cpu\")\n",
    "model.eval()\n",
    "\n",
    "model = torch.quantization.quantize_dynamic(\n",
    "    model, {torch.nn.Linear}, dtype=torch.qint8\n",
    ")"
   ]
  },
  {
   "cell_type": "code",
   "execution_count": 8,
   "id": "913c72a7",
   "metadata": {},
   "outputs": [
    {
     "name": "stdout",
     "output_type": "stream",
     "text": [
      "Num classes:  39\n",
      "Classifier: Sequential(\n",
      "  (0): Dropout(p=0.2, inplace=False)\n",
      "  (1): Linear(in_features=1280, out_features=1000, bias=True)\n",
      ")\n",
      "No of features:  1280\n"
     ]
    }
   ],
   "source": [
    "import torch\n",
    "import torchvision\n",
    "model = torchvision.models.mobilenet_v2(weights=\"DEFAULT\")\n",
    "\n",
    "# Get number of classes\n",
    "num_classes = len(base_dataset.classes) \n",
    "print(\"Num classes: \", num_classes)\n",
    "\n",
    "# Check classifier structure and get input features\n",
    "print(\"Classifier:\", model.classifier)\n",
    "\n",
    "# For MobileNetV3, the final layer is usually at index -1 or index 3\n",
    "# Let's try the last layer\n",
    "final_layer = model.classifier[-1]  # or try model.classifier[3]\n",
    "in_features = final_layer.in_features\n",
    "print(\"No of features: \", in_features)\n",
    "\n",
    "# Replace the final layer\n",
    "model.classifier[-1] = nn.Linear(in_features, num_classes)\n",
    "\n",
    "# Move to device\n",
    "model = model.to(device)\n",
    "\n",
    "# Freeze feature extraction layers\n",
    "for param in model.features.parameters():\n",
    "    param.requires_grad = False\n",
    "\n",
    "# Setup loss and optimizer\n",
    "criterion = nn.CrossEntropyLoss()\n",
    "optimizer = torch.optim.Adam(model.parameters(), lr=0.001)"
   ]
  },
  {
   "cell_type": "code",
   "execution_count": 9,
   "id": "0ddb2815",
   "metadata": {},
   "outputs": [
    {
     "name": "stdout",
     "output_type": "stream",
     "text": [
      "device mps\n",
      "============================== Epoch 1/30\n"
     ]
    },
    {
     "name": "stderr",
     "output_type": "stream",
     "text": [
      "Train:   0%|          | 0/694 [00:00<?, ?it/s]"
     ]
    },
    {
     "name": "stderr",
     "output_type": "stream",
     "text": [
      "/Users/anand/Desktop/1mg/repos/thesis/.venv/lib/python3.13/site-packages/torch/utils/data/dataloader.py:683: UserWarning: 'pin_memory' argument is set as true but not supported on MPS now, then device pinned memory won't be used.\n",
      "  warnings.warn(warn_msg)\n",
      "Train: 100%|██████████| 694/694 [02:18<00:00,  5.03it/s]\n",
      "Val: 100%|██████████| 5546/5546 [00:52<00:00, 104.70it/s]\n"
     ]
    },
    {
     "name": "stdout",
     "output_type": "stream",
     "text": [
      "Train:\tAccuracy: 0.8487\tLoss: 0.7416\n",
      "Valid:\tAccuracy: 0.9392\tLoss: 0.2701\n",
      "Time taken: 191.09 seconds\n",
      "========================================================================================== \n",
      "\n",
      "============================== Epoch 2/30\n"
     ]
    },
    {
     "name": "stderr",
     "output_type": "stream",
     "text": [
      "Train: 100%|██████████| 694/694 [02:09<00:00,  5.35it/s]\n",
      "Val: 100%|██████████| 5546/5546 [00:49<00:00, 111.42it/s]\n"
     ]
    },
    {
     "name": "stdout",
     "output_type": "stream",
     "text": [
      "Train:\tAccuracy: 0.9423\tLoss: 0.2454\n",
      "Valid:\tAccuracy: 0.9504\tLoss: 0.1872\n",
      "Time taken: 179.53 seconds\n",
      "========================================================================================== \n",
      "\n",
      "============================== Epoch 3/30\n"
     ]
    },
    {
     "name": "stderr",
     "output_type": "stream",
     "text": [
      "Train: 100%|██████████| 694/694 [02:10<00:00,  5.33it/s]\n",
      "Val: 100%|██████████| 5546/5546 [00:50<00:00, 109.92it/s]\n"
     ]
    },
    {
     "name": "stdout",
     "output_type": "stream",
     "text": [
      "Train:\tAccuracy: 0.9557\tLoss: 0.1789\n",
      "Valid:\tAccuracy: 0.9538\tLoss: 0.1565\n",
      "Time taken: 180.70 seconds\n",
      "========================================================================================== \n",
      "\n",
      "============================== Epoch 4/30\n"
     ]
    },
    {
     "name": "stderr",
     "output_type": "stream",
     "text": [
      "Train: 100%|██████████| 694/694 [02:08<00:00,  5.38it/s]\n",
      "Val: 100%|██████████| 5546/5546 [00:49<00:00, 111.49it/s]\n"
     ]
    },
    {
     "name": "stdout",
     "output_type": "stream",
     "text": [
      "Train:\tAccuracy: 0.9594\tLoss: 0.1492\n",
      "Valid:\tAccuracy: 0.9609\tLoss: 0.1371\n",
      "Time taken: 178.65 seconds\n",
      "========================================================================================== \n",
      "\n",
      "============================== Epoch 5/30\n"
     ]
    },
    {
     "name": "stderr",
     "output_type": "stream",
     "text": [
      "Train: 100%|██████████| 694/694 [02:07<00:00,  5.46it/s]\n",
      "Val: 100%|██████████| 5546/5546 [00:49<00:00, 111.65it/s]\n"
     ]
    },
    {
     "name": "stdout",
     "output_type": "stream",
     "text": [
      "Train:\tAccuracy: 0.9652\tLoss: 0.1292\n",
      "Valid:\tAccuracy: 0.9621\tLoss: 0.1260\n",
      "Time taken: 176.87 seconds\n",
      "========================================================================================== \n",
      "\n",
      "============================== Epoch 6/30\n"
     ]
    },
    {
     "name": "stderr",
     "output_type": "stream",
     "text": [
      "Train: 100%|██████████| 694/694 [02:07<00:00,  5.45it/s]\n",
      "Val: 100%|██████████| 5546/5546 [00:50<00:00, 110.90it/s]\n"
     ]
    },
    {
     "name": "stdout",
     "output_type": "stream",
     "text": [
      "Train:\tAccuracy: 0.9672\tLoss: 0.1171\n",
      "Valid:\tAccuracy: 0.9654\tLoss: 0.1178\n",
      "Time taken: 177.38 seconds\n",
      "========================================================================================== \n",
      "\n",
      "============================== Epoch 7/30\n"
     ]
    },
    {
     "name": "stderr",
     "output_type": "stream",
     "text": [
      "Train: 100%|██████████| 694/694 [02:09<00:00,  5.35it/s]\n",
      "Val: 100%|██████████| 5546/5546 [00:50<00:00, 109.01it/s]\n"
     ]
    },
    {
     "name": "stdout",
     "output_type": "stream",
     "text": [
      "Train:\tAccuracy: 0.9697\tLoss: 0.1052\n",
      "Valid:\tAccuracy: 0.9659\tLoss: 0.1110\n",
      "Time taken: 180.55 seconds\n",
      "========================================================================================== \n",
      "\n",
      "============================== Epoch 8/30\n"
     ]
    },
    {
     "name": "stderr",
     "output_type": "stream",
     "text": [
      "Train: 100%|██████████| 694/694 [02:14<00:00,  5.14it/s]\n",
      "Val: 100%|██████████| 5546/5546 [00:50<00:00, 109.24it/s]\n"
     ]
    },
    {
     "name": "stdout",
     "output_type": "stream",
     "text": [
      "Train:\tAccuracy: 0.9714\tLoss: 0.0987\n",
      "Valid:\tAccuracy: 0.9675\tLoss: 0.1045\n",
      "Time taken: 185.73 seconds\n",
      "========================================================================================== \n",
      "\n",
      "============================== Epoch 9/30\n"
     ]
    },
    {
     "name": "stderr",
     "output_type": "stream",
     "text": [
      "Train: 100%|██████████| 694/694 [02:13<00:00,  5.20it/s]\n",
      "Val: 100%|██████████| 5546/5546 [00:50<00:00, 108.82it/s]\n"
     ]
    },
    {
     "name": "stdout",
     "output_type": "stream",
     "text": [
      "Train:\tAccuracy: 0.9731\tLoss: 0.0916\n",
      "Valid:\tAccuracy: 0.9677\tLoss: 0.1094\n",
      "Time taken: 184.51 seconds\n",
      "========================================================================================== \n",
      "\n",
      "============================== Epoch 10/30\n"
     ]
    },
    {
     "name": "stderr",
     "output_type": "stream",
     "text": [
      "Train: 100%|██████████| 694/694 [02:15<00:00,  5.13it/s]\n",
      "Val: 100%|██████████| 5546/5546 [00:52<00:00, 105.65it/s]\n"
     ]
    },
    {
     "name": "stdout",
     "output_type": "stream",
     "text": [
      "Train:\tAccuracy: 0.9737\tLoss: 0.0876\n",
      "Valid:\tAccuracy: 0.9657\tLoss: 0.1037\n",
      "Time taken: 187.74 seconds\n",
      "========================================================================================== \n",
      "\n",
      "============================== Epoch 11/30\n"
     ]
    },
    {
     "name": "stderr",
     "output_type": "stream",
     "text": [
      "Train: 100%|██████████| 694/694 [02:14<00:00,  5.16it/s]\n",
      "Val: 100%|██████████| 5546/5546 [00:52<00:00, 105.40it/s]\n"
     ]
    },
    {
     "name": "stdout",
     "output_type": "stream",
     "text": [
      "Train:\tAccuracy: 0.9753\tLoss: 0.0835\n",
      "Valid:\tAccuracy: 0.9672\tLoss: 0.0981\n",
      "Time taken: 187.19 seconds\n",
      "========================================================================================== \n",
      "\n",
      "============================== Epoch 12/30\n"
     ]
    },
    {
     "name": "stderr",
     "output_type": "stream",
     "text": [
      "Train: 100%|██████████| 694/694 [02:11<00:00,  5.29it/s]\n",
      "Val: 100%|██████████| 5546/5546 [00:50<00:00, 110.89it/s]\n"
     ]
    },
    {
     "name": "stdout",
     "output_type": "stream",
     "text": [
      "Train:\tAccuracy: 0.9747\tLoss: 0.0821\n",
      "Valid:\tAccuracy: 0.9666\tLoss: 0.1004\n",
      "Time taken: 181.13 seconds\n",
      "========================================================================================== \n",
      "\n",
      "============================== Epoch 13/30\n"
     ]
    },
    {
     "name": "stderr",
     "output_type": "stream",
     "text": [
      "Train: 100%|██████████| 694/694 [02:15<00:00,  5.12it/s]\n",
      "Val: 100%|██████████| 5546/5546 [00:53<00:00, 102.72it/s]\n"
     ]
    },
    {
     "name": "stdout",
     "output_type": "stream",
     "text": [
      "Train:\tAccuracy: 0.9766\tLoss: 0.0775\n",
      "Valid:\tAccuracy: 0.9665\tLoss: 0.0966\n",
      "Time taken: 189.57 seconds\n",
      "========================================================================================== \n",
      "\n",
      "============================== Epoch 14/30\n"
     ]
    },
    {
     "name": "stderr",
     "output_type": "stream",
     "text": [
      "Train: 100%|██████████| 694/694 [02:16<00:00,  5.07it/s]\n",
      "Val: 100%|██████████| 5546/5546 [00:48<00:00, 113.67it/s]\n"
     ]
    },
    {
     "name": "stdout",
     "output_type": "stream",
     "text": [
      "Train:\tAccuracy: 0.9772\tLoss: 0.0744\n",
      "Valid:\tAccuracy: 0.9661\tLoss: 0.1014\n",
      "Time taken: 185.73 seconds\n",
      "========================================================================================== \n",
      "\n",
      "============================== Epoch 15/30\n"
     ]
    },
    {
     "name": "stderr",
     "output_type": "stream",
     "text": [
      "Train: 100%|██████████| 694/694 [02:10<00:00,  5.30it/s]\n",
      "Val: 100%|██████████| 5546/5546 [00:49<00:00, 111.63it/s]\n"
     ]
    },
    {
     "name": "stdout",
     "output_type": "stream",
     "text": [
      "Train:\tAccuracy: 0.9770\tLoss: 0.0737\n",
      "Valid:\tAccuracy: 0.9679\tLoss: 0.0968\n",
      "Time taken: 180.65 seconds\n",
      "========================================================================================== \n",
      "\n",
      "============================== Epoch 16/30\n"
     ]
    },
    {
     "name": "stderr",
     "output_type": "stream",
     "text": [
      "Train: 100%|██████████| 694/694 [02:12<00:00,  5.23it/s]\n",
      "Val: 100%|██████████| 5546/5546 [00:50<00:00, 109.96it/s]\n"
     ]
    },
    {
     "name": "stdout",
     "output_type": "stream",
     "text": [
      "Train:\tAccuracy: 0.9770\tLoss: 0.0705\n",
      "Valid:\tAccuracy: 0.9697\tLoss: 0.0948\n",
      "Time taken: 183.11 seconds\n",
      "========================================================================================== \n",
      "\n",
      "============================== Epoch 17/30\n"
     ]
    },
    {
     "name": "stderr",
     "output_type": "stream",
     "text": [
      "Train: 100%|██████████| 694/694 [02:08<00:00,  5.38it/s]\n",
      "Val: 100%|██████████| 5546/5546 [00:49<00:00, 111.13it/s]\n"
     ]
    },
    {
     "name": "stdout",
     "output_type": "stream",
     "text": [
      "Train:\tAccuracy: 0.9771\tLoss: 0.0706\n",
      "Valid:\tAccuracy: 0.9693\tLoss: 0.0930\n",
      "Time taken: 178.84 seconds\n",
      "========================================================================================== \n",
      "\n",
      "============================== Epoch 18/30\n"
     ]
    },
    {
     "name": "stderr",
     "output_type": "stream",
     "text": [
      "Train: 100%|██████████| 694/694 [02:08<00:00,  5.40it/s]\n",
      "Val: 100%|██████████| 5546/5546 [00:49<00:00, 111.16it/s]\n"
     ]
    },
    {
     "name": "stdout",
     "output_type": "stream",
     "text": [
      "Train:\tAccuracy: 0.9778\tLoss: 0.0686\n",
      "Valid:\tAccuracy: 0.9686\tLoss: 0.0937\n",
      "Time taken: 178.40 seconds\n",
      "========================================================================================== \n",
      "\n",
      "============================== Epoch 19/30\n"
     ]
    },
    {
     "name": "stderr",
     "output_type": "stream",
     "text": [
      "Train: 100%|██████████| 694/694 [02:07<00:00,  5.44it/s]\n",
      "Val: 100%|██████████| 5546/5546 [00:49<00:00, 111.12it/s]\n"
     ]
    },
    {
     "name": "stdout",
     "output_type": "stream",
     "text": [
      "Train:\tAccuracy: 0.9798\tLoss: 0.0650\n",
      "Valid:\tAccuracy: 0.9702\tLoss: 0.0905\n",
      "Time taken: 177.38 seconds\n",
      "========================================================================================== \n",
      "\n",
      "============================== Epoch 20/30\n"
     ]
    },
    {
     "name": "stderr",
     "output_type": "stream",
     "text": [
      "Train: 100%|██████████| 694/694 [02:07<00:00,  5.46it/s]\n",
      "Val: 100%|██████████| 5546/5546 [00:49<00:00, 111.73it/s]\n"
     ]
    },
    {
     "name": "stdout",
     "output_type": "stream",
     "text": [
      "Train:\tAccuracy: 0.9781\tLoss: 0.0654\n",
      "Valid:\tAccuracy: 0.9697\tLoss: 0.0908\n",
      "Time taken: 176.82 seconds\n",
      "========================================================================================== \n",
      "\n",
      "============================== Epoch 21/30\n"
     ]
    },
    {
     "name": "stderr",
     "output_type": "stream",
     "text": [
      "Train: 100%|██████████| 694/694 [02:09<00:00,  5.37it/s]\n",
      "Val: 100%|██████████| 5546/5546 [00:50<00:00, 110.89it/s]\n"
     ]
    },
    {
     "name": "stdout",
     "output_type": "stream",
     "text": [
      "Train:\tAccuracy: 0.9790\tLoss: 0.0638\n",
      "Valid:\tAccuracy: 0.9695\tLoss: 0.0901\n",
      "Time taken: 179.31 seconds\n",
      "========================================================================================== \n",
      "\n",
      "============================== Epoch 22/30\n"
     ]
    },
    {
     "name": "stderr",
     "output_type": "stream",
     "text": [
      "Train: 100%|██████████| 694/694 [02:10<00:00,  5.34it/s]\n",
      "Val: 100%|██████████| 5546/5546 [00:50<00:00, 110.59it/s]\n"
     ]
    },
    {
     "name": "stdout",
     "output_type": "stream",
     "text": [
      "Train:\tAccuracy: 0.9788\tLoss: 0.0650\n",
      "Valid:\tAccuracy: 0.9677\tLoss: 0.0957\n",
      "Time taken: 180.21 seconds\n",
      "========================================================================================== \n",
      "\n",
      "============================== Epoch 23/30\n"
     ]
    },
    {
     "name": "stderr",
     "output_type": "stream",
     "text": [
      "Train: 100%|██████████| 694/694 [02:10<00:00,  5.32it/s]\n",
      "Val: 100%|██████████| 5546/5546 [00:48<00:00, 113.53it/s]\n"
     ]
    },
    {
     "name": "stdout",
     "output_type": "stream",
     "text": [
      "Train:\tAccuracy: 0.9795\tLoss: 0.0618\n",
      "Valid:\tAccuracy: 0.9684\tLoss: 0.0942\n",
      "Time taken: 179.19 seconds\n",
      "========================================================================================== \n",
      "\n",
      "============================== Epoch 24/30\n"
     ]
    },
    {
     "name": "stderr",
     "output_type": "stream",
     "text": [
      "Train: 100%|██████████| 694/694 [02:10<00:00,  5.33it/s]\n",
      "Val: 100%|██████████| 5546/5546 [00:47<00:00, 117.07it/s]\n"
     ]
    },
    {
     "name": "stdout",
     "output_type": "stream",
     "text": [
      "Train:\tAccuracy: 0.9796\tLoss: 0.0613\n",
      "Valid:\tAccuracy: 0.9713\tLoss: 0.0882\n",
      "Time taken: 177.61 seconds\n",
      "========================================================================================== \n",
      "\n",
      "============================== Epoch 25/30\n"
     ]
    },
    {
     "name": "stderr",
     "output_type": "stream",
     "text": [
      "Train: 100%|██████████| 694/694 [02:10<00:00,  5.33it/s]\n",
      "Val: 100%|██████████| 5546/5546 [00:48<00:00, 115.15it/s]\n"
     ]
    },
    {
     "name": "stdout",
     "output_type": "stream",
     "text": [
      "Train:\tAccuracy: 0.9798\tLoss: 0.0619\n",
      "Valid:\tAccuracy: 0.9690\tLoss: 0.0924\n",
      "Time taken: 178.33 seconds\n",
      "========================================================================================== \n",
      "\n",
      "============================== Epoch 26/30\n"
     ]
    },
    {
     "name": "stderr",
     "output_type": "stream",
     "text": [
      "Train: 100%|██████████| 694/694 [02:11<00:00,  5.29it/s]\n",
      "Val: 100%|██████████| 5546/5546 [00:48<00:00, 114.90it/s]\n"
     ]
    },
    {
     "name": "stdout",
     "output_type": "stream",
     "text": [
      "Train:\tAccuracy: 0.9809\tLoss: 0.0584\n",
      "Valid:\tAccuracy: 0.9670\tLoss: 0.0941\n",
      "Time taken: 179.43 seconds\n",
      "========================================================================================== \n",
      "\n",
      "============================== Epoch 27/30\n"
     ]
    },
    {
     "name": "stderr",
     "output_type": "stream",
     "text": [
      "Train: 100%|██████████| 694/694 [02:11<00:00,  5.28it/s]\n",
      "Val: 100%|██████████| 5546/5546 [00:47<00:00, 115.72it/s]\n"
     ]
    },
    {
     "name": "stdout",
     "output_type": "stream",
     "text": [
      "Train:\tAccuracy: 0.9795\tLoss: 0.0605\n",
      "Valid:\tAccuracy: 0.9690\tLoss: 0.0935\n",
      "Time taken: 179.38 seconds\n",
      "========================================================================================== \n",
      "\n",
      "============================== Epoch 28/30\n"
     ]
    },
    {
     "name": "stderr",
     "output_type": "stream",
     "text": [
      "Train: 100%|██████████| 694/694 [02:10<00:00,  5.31it/s]\n",
      "Val: 100%|██████████| 5546/5546 [00:47<00:00, 115.56it/s]\n"
     ]
    },
    {
     "name": "stdout",
     "output_type": "stream",
     "text": [
      "Train:\tAccuracy: 0.9801\tLoss: 0.0602\n",
      "Valid:\tAccuracy: 0.9701\tLoss: 0.0917\n",
      "Time taken: 178.65 seconds\n",
      "========================================================================================== \n",
      "\n",
      "============================== Epoch 29/30\n"
     ]
    },
    {
     "name": "stderr",
     "output_type": "stream",
     "text": [
      "Train: 100%|██████████| 694/694 [02:10<00:00,  5.34it/s]\n",
      "Val: 100%|██████████| 5546/5546 [00:48<00:00, 114.98it/s]\n"
     ]
    },
    {
     "name": "stdout",
     "output_type": "stream",
     "text": [
      "Train:\tAccuracy: 0.9803\tLoss: 0.0581\n",
      "Valid:\tAccuracy: 0.9686\tLoss: 0.0938\n",
      "Time taken: 178.29 seconds\n",
      "========================================================================================== \n",
      "\n",
      "============================== Epoch 30/30\n"
     ]
    },
    {
     "name": "stderr",
     "output_type": "stream",
     "text": [
      "Train: 100%|██████████| 694/694 [02:10<00:00,  5.32it/s]\n",
      "Val: 100%|██████████| 5546/5546 [00:48<00:00, 114.67it/s]\n"
     ]
    },
    {
     "name": "stdout",
     "output_type": "stream",
     "text": [
      "Train:\tAccuracy: 0.9805\tLoss: 0.0582\n",
      "Valid:\tAccuracy: 0.9675\tLoss: 0.0964\n",
      "Time taken: 178.90 seconds\n",
      "========================================================================================== \n",
      "\n",
      "Best Epoch: 26\n",
      "Train Accuracy: 0.9809 | Train Loss: 0.0584\n",
      "Test Accuracy: 0.9670  | Test Loss: 0.0941\n",
      "Model saved to: model_mobile_net_v2_plantvillage_epoch26.pth\n",
      "✅ Accuracy: 0.9675 (5366/5546)\n"
     ]
    },
    {
     "data": {
      "image/png": "[encoded data removed]",
      "text/plain": [
       "<Figure size 1200x500 with 2 Axes>"
      ]
     },
     "metadata": {},
     "output_type": "display_data"
    }
   ],
   "source": [
    "from thesis.utils.pytorch import train_with_plots\n",
    "\n",
    "\n",
    "num_epochs = 30\n",
    "print(\"device\", device)\n",
    "train_with_plots(\"mobile_net_v2\", num_epochs, model, train_data, train_loader, test_data, test_loader, criterion, optimizer, device)"
   ]
  }
 ],
 "metadata": {
  "kernelspec": {
   "display_name": ".venv",
   "language": "python",
   "name": "python3"
  },
  "language_info": {
   "codemirror_mode": {
    "name": "ipython",
    "version": 3
   },
   "file_extension": ".py",
   "mimetype": "text/x-python",
   "name": "python",
   "nbconvert_exporter": "python",
   "pygments_lexer": "ipython3",
   "version": "3.13.3"
  }
 },
 "nbformat": 4,
 "nbformat_minor": 5
}
